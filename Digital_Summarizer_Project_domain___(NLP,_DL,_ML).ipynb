{
  "cells": [
    {
      "cell_type": "markdown",
      "metadata": {
        "id": "view-in-github",
        "colab_type": "text"
      },
      "source": [
        "<a href=\"https://colab.research.google.com/github/Dubeyrock/-Generating-Realistic-Images-with-GANs-/blob/main/Digital_Summarizer_Project_domain___(NLP%2C_DL%2C_ML).ipynb\" target=\"_parent\"><img src=\"https://colab.research.google.com/assets/colab-badge.svg\" alt=\"Open In Colab\"/></a>"
      ]
    },
    {
      "cell_type": "markdown",
      "metadata": {
        "id": "wVGU-TOoRZ90"
      },
      "source": [
        "**Import necessary libraries (e.g., TensorFlow, PyTorch)**"
      ]
    },
    {
      "cell_type": "markdown",
      "metadata": {
        "id": "mLdy71KdRhv5"
      },
      "source": [
        "**Using Tensorflow**"
      ]
    },
    {
      "cell_type": "code",
      "execution_count": null,
      "metadata": {
        "colab": {
          "base_uri": "https://localhost:8080/"
        },
        "id": "ZtHI3NIwWTVa",
        "outputId": "9ee2fdea-83d4-4891-9d45-4f989c7056ae"
      },
      "outputs": [
        {
          "output_type": "stream",
          "name": "stdout",
          "text": [
            "Requirement already satisfied: rouge in /usr/local/lib/python3.10/dist-packages (1.0.1)\n",
            "Requirement already satisfied: six in /usr/local/lib/python3.10/dist-packages (from rouge) (1.16.0)\n"
          ]
        }
      ],
      "source": [
        "!pip install rouge\n"
      ]
    },
    {
      "cell_type": "code",
      "execution_count": null,
      "metadata": {
        "colab": {
          "base_uri": "https://localhost:8080/"
        },
        "id": "a4eWQ12qRdun",
        "outputId": "be3c1ab1-3134-42e1-aef0-dc8c84a5c09c"
      },
      "outputs": [
        {
          "output_type": "stream",
          "name": "stdout",
          "text": [
            "TensorFlow version: 2.15.0\n"
          ]
        }
      ],
      "source": [
        "# Import TensorFlow and other required libraries\n",
        "import tensorflow as tf\n",
        "from tensorflow import keras\n",
        "from tensorflow.keras.preprocessing.text import Tokenizer\n",
        "from tensorflow.keras.preprocessing.sequence import pad_sequences\n",
        "from tensorflow.keras.models import Model\n",
        "from tensorflow.keras.layers import Input, LSTM, Embedding, Dense, Attention\n",
        "from tensorflow.keras.optimizers import Adam\n",
        "\n",
        "# Additional libraries for data processing and evaluation\n",
        "from nltk.translate.bleu_score import corpus_bleu\n",
        "from rouge import Rouge\n",
        "from tqdm import tqdm\n",
        "\n",
        "# Set random seed for reproducibility\n",
        "tf.random.set_seed(42)\n",
        "\n",
        "# Check TensorFlow version\n",
        "print(\"TensorFlow version:\", tf.__version__)\n"
      ]
    },
    {
      "cell_type": "markdown",
      "metadata": {
        "id": "cNu4zq9-fcUT"
      },
      "source": [
        "working with the dataset"
      ]
    },
    {
      "cell_type": "code",
      "source": [
        "!pip install --upgrade pyarrow\n"
      ],
      "metadata": {
        "colab": {
          "base_uri": "https://localhost:8080/"
        },
        "id": "3Fhk5ijh6yfY",
        "outputId": "551efc92-e7db-4365-8a9e-fedcdda71904"
      },
      "execution_count": null,
      "outputs": [
        {
          "output_type": "stream",
          "name": "stdout",
          "text": [
            "Requirement already satisfied: pyarrow in /usr/local/lib/python3.10/dist-packages (15.0.0)\n",
            "Requirement already satisfied: numpy<2,>=1.16.6 in /usr/local/lib/python3.10/dist-packages (from pyarrow) (1.23.5)\n"
          ]
        }
      ]
    },
    {
      "cell_type": "code",
      "source": [
        "# Install the datasets library\n",
        "!pip install datasets\n",
        "\n",
        "# Import necessary libraries\n",
        "from datasets import load_dataset\n",
        "import pandas as pd\n",
        "\n",
        "# Load the multi_news dataset from Hugging Face\n",
        "dataset = load_dataset(\"multi_news\")\n",
        "\n",
        "# Access train, validation, and test splits\n",
        "train_data = dataset[\"train\"]\n",
        "validation_data = dataset[\"validation\"]\n",
        "test_data = dataset[\"test\"]\n",
        "\n",
        "# Display some information about the dataset\n",
        "print(\"Number of training examples:\", len(train_data))\n",
        "print(\"Number of validation examples:\", len(validation_data))\n",
        "print(\"Number of test examples:\", len(test_data))\n",
        "\n",
        "# Display the structure of the dataset\n",
        "print(train_data.column_names)\n",
        "\n",
        "# Convert the dataset to Pandas DataFrame for easier manipulation (if needed)\n",
        "train_df = pd.DataFrame(train_data)\n",
        "validation_df = pd.DataFrame(validation_data)\n",
        "test_df = pd.DataFrame(test_data)\n",
        "\n",
        "# Optionally, preprocess the data based on your specific needs\n",
        "# For example, you may tokenize and clean the text data\n",
        "\n",
        "# Example tokenization (modify based on your tokenization library and requirements)\n",
        "from transformers import AutoTokenizer\n",
        "\n",
        "tokenizer = AutoTokenizer.from_pretrained(\"bert-base-uncased\")\n",
        "\n",
        "def tokenize_text(text):\n",
        "    return tokenizer(text, padding=True, truncation=True, return_tensors=\"tf\")\n",
        "\n"
      ],
      "metadata": {
        "id": "MkYM3gQC8rhY"
      },
      "execution_count": null,
      "outputs": []
    },
    {
      "cell_type": "code",
      "execution_count": null,
      "metadata": {
        "colab": {
          "base_uri": "https://localhost:8080/"
        },
        "id": "xObPeWDNX_WU",
        "outputId": "34aea3f9-8eab-48a3-a705-ca03b2a549cf"
      },
      "outputs": [
        {
          "output_type": "stream",
          "name": "stdout",
          "text": [
            "Number of training examples: 44972\n",
            "Number of validation examples: 5622\n",
            "Number of test examples: 5622\n"
          ]
        }
      ],
      "source": [
        "# Display some information about the dataset\n",
        "print(\"Number of training examples:\", len(train_data))\n",
        "print(\"Number of validation examples:\", len(validation_data))\n",
        "print(\"Number of test examples:\", len(test_data))"
      ]
    },
    {
      "cell_type": "markdown",
      "metadata": {
        "id": "Kp1vFbMJYGJY"
      },
      "source": [
        "**Display the structure of the dataset**"
      ]
    },
    {
      "cell_type": "code",
      "execution_count": null,
      "metadata": {
        "colab": {
          "base_uri": "https://localhost:8080/"
        },
        "id": "-5fx7n3nYM05",
        "outputId": "672131e8-7c1b-475c-d99d-328a994492f7"
      },
      "outputs": [
        {
          "output_type": "stream",
          "name": "stdout",
          "text": [
            "['document', 'summary']\n"
          ]
        }
      ],
      "source": [
        "print(train_data.column_names)"
      ]
    },
    {
      "cell_type": "code",
      "execution_count": null,
      "metadata": {
        "colab": {
          "base_uri": "https://localhost:8080/"
        },
        "id": "zl6G8PxS_O3k",
        "outputId": "434ae2f0-a0d5-41fc-a576-f3b771dbd2b2"
      },
      "outputs": [
        {
          "output_type": "stream",
          "name": "stdout",
          "text": [
            "696696821\n"
          ]
        }
      ],
      "source": [
        "print(train_data.dataset_size)"
      ]
    },
    {
      "cell_type": "code",
      "execution_count": null,
      "metadata": {
        "colab": {
          "base_uri": "https://localhost:8080/"
        },
        "id": "dJTvXhSO_W5R",
        "outputId": "f71256ea-9b3c-4656-c593-e4427a51517e"
      },
      "outputs": [
        {
          "output_type": "stream",
          "name": "stdout",
          "text": [
            "SupervisedKeysData(input='document', output='summary')\n"
          ]
        }
      ],
      "source": [
        "print(train_data.supervised_keys)"
      ]
    },
    {
      "cell_type": "code",
      "execution_count": null,
      "metadata": {
        "colab": {
          "base_uri": "https://localhost:8080/"
        },
        "id": "OIJKcVnK_j6b",
        "outputId": "c75f6d7f-77ce-4ba7-8bbd-4f0d1e048a27"
      },
      "outputs": [
        {
          "output_type": "stream",
          "name": "stdout",
          "text": [
            "<bound method Dataset.align_labels_with_mapping of Dataset({\n",
            "    features: ['document', 'summary'],\n",
            "    num_rows: 44972\n",
            "})>\n"
          ]
        }
      ],
      "source": [
        "print(train_data.align_labels_with_mapping)"
      ]
    },
    {
      "cell_type": "code",
      "execution_count": null,
      "metadata": {
        "colab": {
          "base_uri": "https://localhost:8080/"
        },
        "id": "WicnyCyi_2j9",
        "outputId": "4bc3d039-c743-4b41-82c0-b92b4b72f420"
      },
      "outputs": [
        {
          "output_type": "stream",
          "name": "stdout",
          "text": [
            "\n",
            "Multi-News, consists of news articles and human-written summaries\n",
            "of these articles from the site newser.com.\n",
            "Each summary is professionally written by editors and\n",
            "includes links to the original articles cited.\n",
            "\n",
            "There are two features:\n",
            "  - document: text of news articles seperated by special token \"|||||\".\n",
            "  - summary: news summary.\n",
            "\n"
          ]
        }
      ],
      "source": [
        "print(train_data.description)"
      ]
    },
    {
      "cell_type": "code",
      "execution_count": null,
      "metadata": {
        "colab": {
          "base_uri": "https://localhost:8080/"
        },
        "id": "E6UEC50BAVu4",
        "outputId": "dc128018-4852-4e78-d48e-4cdbfea19909"
      },
      "outputs": [
        {
          "output_type": "stream",
          "name": "stdout",
          "text": [
            "{'document': Value(dtype='string', id=None), 'summary': Value(dtype='string', id=None)}\n"
          ]
        }
      ],
      "source": [
        "print(train_data.features)"
      ]
    },
    {
      "cell_type": "code",
      "execution_count": null,
      "metadata": {
        "colab": {
          "base_uri": "https://localhost:8080/"
        },
        "id": "xXhV40WnbDpB",
        "outputId": "24acb06a-d43b-4058-a313-fee9aa7c52a9"
      },
      "outputs": [
        {
          "output_type": "stream",
          "name": "stdout",
          "text": [
            "Train DataFrame:\n",
            "Dataset({\n",
            "    features: ['document', 'summary'],\n",
            "    num_rows: 44972\n",
            "})\n",
            "\n",
            "Validation DataFrame:\n",
            "Dataset({\n",
            "    features: ['document', 'summary'],\n",
            "    num_rows: 5622\n",
            "})\n",
            "\n",
            "Test DataFrame:\n",
            "Dataset({\n",
            "    features: ['document', 'summary'],\n",
            "    num_rows: 5622\n",
            "})\n"
          ]
        }
      ],
      "source": [
        "# Set option to display all rows and columns in Pandas DataFrames\n",
        "pd.set_option('display.max_rows', None)\n",
        "pd.set_option('display.max_columns', None)\n",
        "\n",
        "# Display the entire content of DataFrames\n",
        "print(\"Train DataFrame:\")\n",
        "print(train_data)\n",
        "\n",
        "print(\"\\nValidation DataFrame:\")\n",
        "print(validation_data)\n",
        "\n",
        "print(\"\\nTest DataFrame:\")\n",
        "print(test_data)\n"
      ]
    },
    {
      "cell_type": "code",
      "execution_count": null,
      "metadata": {
        "colab": {
          "base_uri": "https://localhost:8080/"
        },
        "id": "qVeWFjl-fUAO",
        "outputId": "11803711-41a9-43fb-a835-1053c962a13c"
      },
      "outputs": [
        {
          "output_type": "stream",
          "name": "stdout",
          "text": [
            "Train DataFrame Column Names: ['document', 'summary']\n",
            "\n",
            "Validation DataFrame Column Names: ['document', 'summary']\n",
            "\n",
            "Test DataFrame Column Names: ['document', 'summary']\n"
          ]
        }
      ],
      "source": [
        "# Display the column names in each DataFrame\n",
        "print(\"Train DataFrame Column Names:\", train_data.column_names)\n",
        "print(\"\\nValidation DataFrame Column Names:\", validation_data.column_names)\n",
        "print(\"\\nTest DataFrame Column Names:\", test_data.column_names)\n"
      ]
    },
    {
      "cell_type": "code",
      "execution_count": null,
      "metadata": {
        "colab": {
          "base_uri": "https://localhost:8080/"
        },
        "id": "zeF40nS3fb46",
        "outputId": "b31f168b-5329-46fd-b574-be3071d060ff"
      },
      "outputs": [
        {
          "output_type": "stream",
          "name": "stdout",
          "text": [
            "Train DataFrame:\n",
            "696696821\n",
            "\n",
            "Validation DataFrame:\n",
            "{'document': Value(dtype='string', id=None), 'summary': Value(dtype='string', id=None)}\n",
            "\n",
            "Test DataFrame:\n",
            "\n",
            "Multi-News, consists of news articles and human-written summaries\n",
            "of these articles from the site newser.com.\n",
            "Each summary is professionally written by editors and\n",
            "includes links to the original articles cited.\n",
            "\n",
            "There are two features:\n",
            "  - document: text of news articles seperated by special token \"|||||\".\n",
            "  - summary: news summary.\n",
            "\n"
          ]
        }
      ],
      "source": [
        "# Display the first few rows of each DataFrame\n",
        "print(\"Train DataFrame:\")\n",
        "print(train_data.dataset_size)\n",
        "\n",
        "print(\"\\nValidation DataFrame:\")\n",
        "print(validation_data.features)\n",
        "\n",
        "print(\"\\nTest DataFrame:\")\n",
        "print(test_data.description)\n"
      ]
    },
    {
      "cell_type": "code",
      "execution_count": null,
      "metadata": {
        "colab": {
          "base_uri": "https://localhost:8080/",
          "height": 240,
          "referenced_widgets": [
            "2cea89c78ae44a70948778a5b00c191b",
            "bacce901ed5a4a219ba0666f08d2a86f",
            "5d25388ba41e406b95a4e06f97886f5d",
            "75f8584007bc4af4ae971d22fb8f40cb",
            "0e621e5fa57845fcb6be42d5ea45a0e5",
            "25ab037c07304a53bccff08a0b39c1e4",
            "f631b2f09664455ab45ac75a15ee097c",
            "d35a7f40fb12420596389198a0ef83a5",
            "82ae46137a0345b18d97bdb841a745b2",
            "dd831be3875a45feaa7aac9a8563c49d",
            "53b9edd37ebe4e84a8b4577d01ea7a79",
            "b65dd43340be4d42bcc7b4a2baeee102",
            "c064c0f27e564cf4a13c3528b4fbdcff",
            "1647525e7e4b42a2a8cadbc8fd6c1c32",
            "0b02c5b487f44923b9e4d2811c708d05",
            "fb0fae84636143e4860e8b0d447ce0fc",
            "0068748ce8ac488a867e1190ccc67c5b",
            "2974150c41404ebebb37d6160b63ec71",
            "ee2514f39d994d3688ae0d92482f4aa5",
            "a037ac09d2be4d2393a0af1a55579d65",
            "18c27b0bbcbc40758aadf0de4cabc40e",
            "b773e1eadbe34a48be6ff7a7591e7ac4",
            "0efbbcb9009442c38cc53e120f1ff1a3",
            "34c3e8f0dc824a9db3128a019e97c4a4",
            "1578a69fcda44a59a8f5dc582bb1fa96",
            "27d10956a4c942589ef07f1e2133eb9b",
            "e47152ec58ed4dc882e2818cca67c9fe",
            "a8e01021d75943b88c9b4b44b8518a4b",
            "3b37d3409b464cc88f97eb934928e7ab",
            "ad168139f075487391054110a47225c1",
            "d56f4a37b0a44fe0b6c011ff8ea99191",
            "93bb2ee0751d4ab29bbcedfd11494f66",
            "3aef95011d8e4bbba96d810772709308"
          ]
        },
        "id": "NvNcmVlcUii1",
        "outputId": "ebc8e281-c848-4b38-d72f-f615a217cf13"
      },
      "outputs": [
        {
          "output_type": "display_data",
          "data": {
            "text/plain": [
              "config.json:   0%|          | 0.00/1.21k [00:00<?, ?B/s]"
            ],
            "application/vnd.jupyter.widget-view+json": {
              "version_major": 2,
              "version_minor": 0,
              "model_id": "2cea89c78ae44a70948778a5b00c191b"
            }
          },
          "metadata": {}
        },
        {
          "output_type": "display_data",
          "data": {
            "text/plain": [
              "spiece.model:   0%|          | 0.00/792k [00:00<?, ?B/s]"
            ],
            "application/vnd.jupyter.widget-view+json": {
              "version_major": 2,
              "version_minor": 0,
              "model_id": "b65dd43340be4d42bcc7b4a2baeee102"
            }
          },
          "metadata": {}
        },
        {
          "output_type": "display_data",
          "data": {
            "text/plain": [
              "tokenizer.json:   0%|          | 0.00/1.39M [00:00<?, ?B/s]"
            ],
            "application/vnd.jupyter.widget-view+json": {
              "version_major": 2,
              "version_minor": 0,
              "model_id": "0efbbcb9009442c38cc53e120f1ff1a3"
            }
          },
          "metadata": {}
        },
        {
          "output_type": "stream",
          "name": "stderr",
          "text": [
            "/usr/local/lib/python3.10/dist-packages/transformers/models/t5/tokenization_t5_fast.py:160: FutureWarning: This tokenizer was incorrectly instantiated with a model max length of 512 which will be corrected in Transformers v5.\n",
            "For now, this behavior is kept to avoid breaking backwards compatibility when padding/encoding with `truncation is True`.\n",
            "- Be aware that you SHOULD NOT rely on t5-base automatically truncating your input to 512 when padding/encoding.\n",
            "- If you want to encode/pad to sequences longer than 512 you can either instantiate this tokenizer with `model_max_length` or pass `max_length` when encoding/padding.\n",
            "- To avoid this warning, please instantiate this tokenizer with `model_max_length` set to your preferred value.\n",
            "  warnings.warn(\n"
          ]
        }
      ],
      "source": [
        "from transformers import AutoTokenizer\n",
        "\n",
        "# Load a pre-trained tokenizer (replace 't5-base' with the model name you want)\n",
        "tokenizer = AutoTokenizer.from_pretrained(\"t5-base\")\n",
        "\n",
        "# Tokenize the data\n",
        "# ...\n"
      ]
    },
    {
      "cell_type": "code",
      "execution_count": null,
      "metadata": {
        "id": "_Oi2-0MVV2Y_",
        "colab": {
          "base_uri": "https://localhost:8080/"
        },
        "outputId": "338e3e01-bc85-4336-fb27-6029cb78439a"
      },
      "outputs": [
        {
          "output_type": "stream",
          "name": "stdout",
          "text": [
            "Requirement already satisfied: transformers in /usr/local/lib/python3.10/dist-packages (4.35.2)\n",
            "Requirement already satisfied: filelock in /usr/local/lib/python3.10/dist-packages (from transformers) (3.13.1)\n",
            "Requirement already satisfied: huggingface-hub<1.0,>=0.16.4 in /usr/local/lib/python3.10/dist-packages (from transformers) (0.20.3)\n",
            "Requirement already satisfied: numpy>=1.17 in /usr/local/lib/python3.10/dist-packages (from transformers) (1.23.5)\n",
            "Requirement already satisfied: packaging>=20.0 in /usr/local/lib/python3.10/dist-packages (from transformers) (23.2)\n",
            "Requirement already satisfied: pyyaml>=5.1 in /usr/local/lib/python3.10/dist-packages (from transformers) (6.0.1)\n",
            "Requirement already satisfied: regex!=2019.12.17 in /usr/local/lib/python3.10/dist-packages (from transformers) (2023.12.25)\n",
            "Requirement already satisfied: requests in /usr/local/lib/python3.10/dist-packages (from transformers) (2.31.0)\n",
            "Requirement already satisfied: tokenizers<0.19,>=0.14 in /usr/local/lib/python3.10/dist-packages (from transformers) (0.15.1)\n",
            "Requirement already satisfied: safetensors>=0.3.1 in /usr/local/lib/python3.10/dist-packages (from transformers) (0.4.2)\n",
            "Requirement already satisfied: tqdm>=4.27 in /usr/local/lib/python3.10/dist-packages (from transformers) (4.66.1)\n",
            "Requirement already satisfied: fsspec>=2023.5.0 in /usr/local/lib/python3.10/dist-packages (from huggingface-hub<1.0,>=0.16.4->transformers) (2023.6.0)\n",
            "Requirement already satisfied: typing-extensions>=3.7.4.3 in /usr/local/lib/python3.10/dist-packages (from huggingface-hub<1.0,>=0.16.4->transformers) (4.9.0)\n",
            "Requirement already satisfied: charset-normalizer<4,>=2 in /usr/local/lib/python3.10/dist-packages (from requests->transformers) (3.3.2)\n",
            "Requirement already satisfied: idna<4,>=2.5 in /usr/local/lib/python3.10/dist-packages (from requests->transformers) (3.6)\n",
            "Requirement already satisfied: urllib3<3,>=1.21.1 in /usr/local/lib/python3.10/dist-packages (from requests->transformers) (2.0.7)\n",
            "Requirement already satisfied: certifi>=2017.4.17 in /usr/local/lib/python3.10/dist-packages (from requests->transformers) (2024.2.2)\n",
            "{'input_ids': <tf.Tensor: shape=(1, 7), dtype=int32, numpy=array([[ 100,   19,   46,  677, 7142,    5,    1]], dtype=int32)>, 'attention_mask': <tf.Tensor: shape=(1, 7), dtype=int32, numpy=array([[1, 1, 1, 1, 1, 1, 1]], dtype=int32)>}\n"
          ]
        }
      ],
      "source": [
        "# Install necessary library\n",
        "!pip install transformers\n",
        "\n",
        "from transformers import AutoTokenizer\n",
        "\n",
        "# Load a pre-trained tokenizer\n",
        "tokenizer = AutoTokenizer.from_pretrained(\"t5-base\")\n",
        "\n",
        "# Example usage\n",
        "text = \"This is an example sentence.\"\n",
        "tokens = tokenizer(text, return_tensors=\"tf\")\n",
        "print(tokens)\n"
      ]
    },
    {
      "cell_type": "code",
      "execution_count": null,
      "metadata": {
        "id": "7Ocb1yV_WQNe",
        "colab": {
          "base_uri": "https://localhost:8080/",
          "height": 838,
          "referenced_widgets": [
            "2ae6b452fc7941ebb87e929ed912ae69",
            "5e190a56cbc0462baf83d38983fc4158",
            "f296b9d2d992488ab7279e9b3b528728",
            "d0e4be8f7ab24916b863cea00cb314f8",
            "f1e3fb16017847d2964f760de0f67bc1",
            "fdce45f1e984420eb63ed13f2e8eabe9",
            "ac5edc8ea4fa490e800c180ef6dd3482",
            "b75d0e8e05704f5fb4132d561be36f97",
            "0d3199711ef84dd08c4910408027e581",
            "b3b6fee8e3c34647acdf1afeca170adb",
            "3e6a8bd8153b410c826a50fd75ebf894"
          ]
        },
        "outputId": "64f5c528-a633-45ab-e622-aa20f3ea6a82"
      },
      "outputs": [
        {
          "output_type": "stream",
          "name": "stdout",
          "text": [
            "Requirement already satisfied: datasets in /usr/local/lib/python3.10/dist-packages (2.17.0)\n",
            "Requirement already satisfied: filelock in /usr/local/lib/python3.10/dist-packages (from datasets) (3.13.1)\n",
            "Requirement already satisfied: numpy>=1.17 in /usr/local/lib/python3.10/dist-packages (from datasets) (1.23.5)\n",
            "Requirement already satisfied: pyarrow>=12.0.0 in /usr/local/lib/python3.10/dist-packages (from datasets) (15.0.0)\n",
            "Requirement already satisfied: pyarrow-hotfix in /usr/local/lib/python3.10/dist-packages (from datasets) (0.6)\n",
            "Requirement already satisfied: dill<0.3.9,>=0.3.0 in /usr/local/lib/python3.10/dist-packages (from datasets) (0.3.8)\n",
            "Requirement already satisfied: pandas in /usr/local/lib/python3.10/dist-packages (from datasets) (1.5.3)\n",
            "Requirement already satisfied: requests>=2.19.0 in /usr/local/lib/python3.10/dist-packages (from datasets) (2.31.0)\n",
            "Requirement already satisfied: tqdm>=4.62.1 in /usr/local/lib/python3.10/dist-packages (from datasets) (4.66.1)\n",
            "Requirement already satisfied: xxhash in /usr/local/lib/python3.10/dist-packages (from datasets) (3.4.1)\n",
            "Requirement already satisfied: multiprocess in /usr/local/lib/python3.10/dist-packages (from datasets) (0.70.16)\n",
            "Requirement already satisfied: fsspec[http]<=2023.10.0,>=2023.1.0 in /usr/local/lib/python3.10/dist-packages (from datasets) (2023.6.0)\n",
            "Requirement already satisfied: aiohttp in /usr/local/lib/python3.10/dist-packages (from datasets) (3.9.3)\n",
            "Requirement already satisfied: huggingface-hub>=0.19.4 in /usr/local/lib/python3.10/dist-packages (from datasets) (0.20.3)\n",
            "Requirement already satisfied: packaging in /usr/local/lib/python3.10/dist-packages (from datasets) (23.2)\n",
            "Requirement already satisfied: pyyaml>=5.1 in /usr/local/lib/python3.10/dist-packages (from datasets) (6.0.1)\n",
            "Requirement already satisfied: aiosignal>=1.1.2 in /usr/local/lib/python3.10/dist-packages (from aiohttp->datasets) (1.3.1)\n",
            "Requirement already satisfied: attrs>=17.3.0 in /usr/local/lib/python3.10/dist-packages (from aiohttp->datasets) (23.2.0)\n",
            "Requirement already satisfied: frozenlist>=1.1.1 in /usr/local/lib/python3.10/dist-packages (from aiohttp->datasets) (1.4.1)\n",
            "Requirement already satisfied: multidict<7.0,>=4.5 in /usr/local/lib/python3.10/dist-packages (from aiohttp->datasets) (6.0.5)\n",
            "Requirement already satisfied: yarl<2.0,>=1.0 in /usr/local/lib/python3.10/dist-packages (from aiohttp->datasets) (1.9.4)\n",
            "Requirement already satisfied: async-timeout<5.0,>=4.0 in /usr/local/lib/python3.10/dist-packages (from aiohttp->datasets) (4.0.3)\n",
            "Requirement already satisfied: typing-extensions>=3.7.4.3 in /usr/local/lib/python3.10/dist-packages (from huggingface-hub>=0.19.4->datasets) (4.9.0)\n",
            "Requirement already satisfied: charset-normalizer<4,>=2 in /usr/local/lib/python3.10/dist-packages (from requests>=2.19.0->datasets) (3.3.2)\n",
            "Requirement already satisfied: idna<4,>=2.5 in /usr/local/lib/python3.10/dist-packages (from requests>=2.19.0->datasets) (3.6)\n",
            "Requirement already satisfied: urllib3<3,>=1.21.1 in /usr/local/lib/python3.10/dist-packages (from requests>=2.19.0->datasets) (2.0.7)\n",
            "Requirement already satisfied: certifi>=2017.4.17 in /usr/local/lib/python3.10/dist-packages (from requests>=2.19.0->datasets) (2024.2.2)\n",
            "Requirement already satisfied: python-dateutil>=2.8.1 in /usr/local/lib/python3.10/dist-packages (from pandas->datasets) (2.8.2)\n",
            "Requirement already satisfied: pytz>=2020.1 in /usr/local/lib/python3.10/dist-packages (from pandas->datasets) (2023.4)\n",
            "Requirement already satisfied: six>=1.5 in /usr/local/lib/python3.10/dist-packages (from python-dateutil>=2.8.1->pandas->datasets) (1.16.0)\n",
            "\n",
            "Multi-News, consists of news articles and human-written summaries\n",
            "of these articles from the site newser.com.\n",
            "Each summary is professionally written by editors and\n",
            "includes links to the original articles cited.\n",
            "\n",
            "There are two features:\n",
            "  - document: text of news articles seperated by special token \"|||||\".\n",
            "  - summary: news summary.\n",
            "\n",
            "{'document': Value(dtype='string', id=None), 'summary': Value(dtype='string', id=None)}\n"
          ]
        },
        {
          "output_type": "display_data",
          "data": {
            "text/plain": [
              "Map:   0%|          | 0/44972 [00:00<?, ? examples/s]"
            ],
            "application/vnd.jupyter.widget-view+json": {
              "version_major": 2,
              "version_minor": 0,
              "model_id": "2ae6b452fc7941ebb87e929ed912ae69"
            }
          },
          "metadata": {}
        },
        {
          "output_type": "stream",
          "name": "stdout",
          "text": [
            "[[868, 18499, 2163, 6, 34, 22, 7, 24, 97, 541, 6, 5265, 5, 94, 22, 7, 8, 166, 1701, 13, 8, 847, 6, 116, 21, 80, 664, 18, 7, 32, 18, 25572, 798, 8, 3984, 13, 3556, 1887, 6, 2386, 11, 5140, 1887, 33, 66, 7901, 15, 26, 30, 80, 589, 10, 15106, 5, 71, 1434, 2270, 30, 8, 412, 5, 134, 5, 4311, 1419, 21, 1762, 8046, 8, 4107, 7, 44, 23899, 3, 9, 5, 51, 5, 368, 1060, 97, 1772, 80, 13, 8, 167, 359, 23052, 7, 30, 149, 8, 2717, 623, 15, 26, 383, 8, 1767, 847, 5, 19539, 1628, 33, 21, 460, 11212, 126, 2476, 12, 36, 990, 6, 1315, 12, 20163, 7, 5492, 15, 26, 57, 21236, 6193, 3529, 12931, 7, 6, 3, 2172, 12, 1630, 18834, 2476, 974, 16, 2083, 5, 37, 17646, 1080, 19, 1644, 12, 1520, 11207, 44, 4848, 5170, 5, 947, 44, 3611, 2703, 144, 3, 21447, 6, 62, 22, 195, 36, 1772, 945, 18204, 274, 11, 227, 8, 331, 26932, 8, 4107, 7, 5, 8979, 339, 12, 11385, 18, 77, 909, 6, 1009, 8, 2622, 1375, 5, 275, 298, 25, 22, 60, 270, 6, 572, 278, 22, 17, 25, 1320, 95, 12, 1130, 178, 30, 3046, 5, 4780, 8, 504, 5, 1820, 9175, 9175, 9175, 9175, 19631, 277, 6756, 223, 4816, 120, 30, 7539, 336, 847, 6, 3, 9, 9561, 24, 8, 412, 5, 134, 5, 2717, 164, 59, 36, 1710, 1006, 631, 12, 12666, 6268, 613, 1170, 5, 37, 17646, 1080, 3, 26, 15437, 6, 68, 3323, 250, 72, 5452, 4910, 479, 21, 161, 5, 37, 9836, 1775, 845, 8, 2717, 974, 209, 13922, 2476, 16, 1332, 6, 323, 45, 72, 145, 3, 22779, 16, 284, 13, 8, 1767, 386, 767, 5, 37, 17646, 1080, 4728, 12, 4848, 357, 1093, 6, 8, 7402, 437, 1762, 10425, 37, 1080, 6292, 250, 3, 10643, 151, 19141, 21, 2476, 5, 37, 2314, 17646, 3, 17, 1427, 163, 963, 273, 3945, 161, 5, 37, 2717, 65, 974, 11989, 16235, 2476, 437, 1882, 3, 834, 8, 200, 662, 767, 13, 7539, 16, 192, 203, 5, 299, 5034, 9473, 11636, 2798, 8942, 5979, 15, 65, 14291, 15, 26, 24, 8, 750, 7539, 4974, 19, 9909, 12, 916, 406, 72, 3733, 2887, 5, 1, 0, 0, 0, 0, 0, 0, 0, 0, 0, 0, 0, 0, 0, 0, 0, 0, 0, 0, 0, 0, 0, 0, 0, 0, 0, 0, 0, 0, 0, 0, 0, 0, 0, 0, 0, 0, 0, 0, 0, 0, 0, 0, 0, 0, 0, 0, 0, 0, 0, 0, 0, 0, 0, 0, 0, 0, 0, 0, 0, 0, 0, 0, 0, 0, 0, 0, 0, 0, 0, 0, 0, 0, 0, 0, 0, 0, 0, 0, 0, 0, 0, 0, 0, 0, 0, 0, 0, 0, 0, 0, 0, 0, 0, 0, 0, 0, 0, 0, 0, 0, 0, 0, 0, 0, 0, 0, 0, 0, 0, 0, 0, 0, 0, 0, 0, 0, 0, 0, 0, 0, 0, 0, 0, 0, 0, 0, 0, 0, 0, 0, 0, 0, 0, 0]]\n",
            "[[3, 104, 37, 17646, 1080, 6292, 12, 4848, 5406, 336, 847, 6, 68, 8, 2717, 163, 974, 209, 13922, 2476, 6, 116, 460, 11212, 126, 2476, 141, 118, 15439, 6, 1315, 12, 469, 31, 7, 2476, 934, 5, 419, 4787, 30, 8, 3556, 1887, 3559, 31, 7, 3611, 2703, 144, 5039, 47, 18642, 10, 96, 518, 32, 9, 107, 3158, 3862, 381, 535, 37, 17646, 1080, 6, 983, 6, 19, 394, 1506, 117, 34, 141, 118, 1644, 12, 1520, 11207, 44, 4848, 5170, 5, 299, 8, 3, 2965, 3358, 24, 8, 10823, 19, 3323, 788, 12, 72, 5452, 1517, 95, 30, 3945, 4311, 5, 1, 0, 0, 0, 0, 0, 0, 0, 0, 0, 0, 0, 0, 0, 0, 0, 0, 0, 0, 0, 0, 0, 0, 0, 0, 0, 0, 0, 0, 0, 0, 0, 0, 0, 0, 0, 0, 0, 0, 0, 0, 0, 0, 0, 0, 0]]\n"
          ]
        }
      ],
      "source": [
        "# Install necessary libraries\n",
        "!pip install datasets\n",
        "\n",
        "# Import necessary libraries\n",
        "from datasets import load_dataset\n",
        "from transformers import AutoTokenizer\n",
        "\n",
        "# Load the multi_news dataset\n",
        "dataset = load_dataset(\"multi_news\")\n",
        "\n",
        "# Access the training split\n",
        "train_data = dataset[\"train\"]\n",
        "\n",
        "# Display some information about the dataset\n",
        "print(train_data.info.description)\n",
        "print(train_data.info.features)\n",
        "\n",
        "# Load a pre-trained tokenizer\n",
        "tokenizer = AutoTokenizer.from_pretrained(\"t5-base\")\n",
        "\n",
        "# Preprocess the dataset\n",
        "def preprocess_example(example):\n",
        "    source_text = example[\"document\"]\n",
        "    target_text = example[\"summary\"]\n",
        "\n",
        "    # Tokenize and truncate the sequences\n",
        "    inputs = tokenizer(source_text, return_tensors=\"tf\", truncation=True, max_length=512, padding=\"max_length\")\n",
        "    targets = tokenizer(target_text, return_tensors=\"tf\", truncation=True, max_length=150, padding=\"max_length\")\n",
        "\n",
        "    return {\n",
        "        \"input_ids\": inputs[\"input_ids\"],\n",
        "        \"attention_mask\": inputs[\"attention_mask\"],\n",
        "        \"labels\": targets[\"input_ids\"],\n",
        "    }\n",
        "\n",
        "# Apply the preprocessing function to the entire dataset\n",
        "preprocessed_dataset = train_data.map(preprocess_example)\n",
        "\n",
        "# Display a preprocessed example\n",
        "print(preprocessed_dataset[\"input_ids\"][0])\n",
        "print(preprocessed_dataset[\"labels\"][0])\n"
      ]
    },
    {
      "cell_type": "markdown",
      "metadata": {
        "id": "bM9NzrR1Wn-i"
      },
      "source": [
        "**Split the dataset into training and testing sets.**"
      ]
    },
    {
      "cell_type": "markdown",
      "metadata": {
        "id": "eJpZvNmkDo4m"
      },
      "source": [
        "train_test_split is used to randomly split the DataFrame into training and testing sets.\n",
        "\n",
        "The test_size parameter determines the proportion of the dataset to include in the test split (here, 20% for testing and 80% for training).\n",
        "random_state is set for reproducibility."
      ]
    },
    {
      "cell_type": "code",
      "execution_count": null,
      "metadata": {
        "colab": {
          "base_uri": "https://localhost:8080/"
        },
        "id": "scqjyuhvDT4a",
        "outputId": "3201722b-4e18-43aa-8784-5fdd373dbcbe"
      },
      "outputs": [
        {
          "output_type": "stream",
          "name": "stdout",
          "text": [
            "Number of training examples: 2\n",
            "Number of testing examples: 2\n"
          ]
        }
      ],
      "source": [
        "# Import necessary libraries\n",
        "from sklearn.model_selection import train_test_split\n",
        "\n",
        "# Assuming you have loaded the 'multi_news' dataset from here\n",
        "from datasets import load_dataset\n",
        "\n",
        "# Load the multi_news dataset from\n",
        "dataset = load_dataset(\"multi_news\")\n",
        "\n",
        "# Access train and test splits\n",
        "train_data = dataset[\"train\"]\n",
        "test_data = dataset[\"test\"]\n",
        "\n",
        "# Split the dataset into training and testing sets\n",
        "train_data, test_data = train_test_split(train_data, test_size=0.2, random_state=42)\n",
        "\n",
        "# Display the sizes of the training and testing sets\n",
        "print(\"Number of training examples:\", len(train_data))\n",
        "print(\"Number of testing examples:\", len(test_data))\n"
      ]
    },
    {
      "cell_type": "markdown",
      "metadata": {
        "id": "fFgPbgtNliXh"
      },
      "source": [
        "**Model deployment**"
      ]
    },
    {
      "cell_type": "markdown",
      "metadata": {
        "id": "22ly-5JclrMP"
      },
      "source": [
        "**Implementing a Seq2Seq (Sequence-to-Sequence) model for a specific task like text**"
      ]
    },
    {
      "cell_type": "code",
      "execution_count": null,
      "metadata": {
        "id": "Vvsv_w7Ilqgy",
        "colab": {
          "base_uri": "https://localhost:8080/"
        },
        "outputId": "73202fbe-3838-46fc-9cf8-c2f0b9350e4b"
      },
      "outputs": [
        {
          "output_type": "stream",
          "name": "stdout",
          "text": [
            "Requirement already satisfied: tensorflow in /usr/local/lib/python3.10/dist-packages (2.15.0)\n",
            "Requirement already satisfied: absl-py>=1.0.0 in /usr/local/lib/python3.10/dist-packages (from tensorflow) (1.4.0)\n",
            "Requirement already satisfied: astunparse>=1.6.0 in /usr/local/lib/python3.10/dist-packages (from tensorflow) (1.6.3)\n",
            "Requirement already satisfied: flatbuffers>=23.5.26 in /usr/local/lib/python3.10/dist-packages (from tensorflow) (23.5.26)\n",
            "Requirement already satisfied: gast!=0.5.0,!=0.5.1,!=0.5.2,>=0.2.1 in /usr/local/lib/python3.10/dist-packages (from tensorflow) (0.5.4)\n",
            "Requirement already satisfied: google-pasta>=0.1.1 in /usr/local/lib/python3.10/dist-packages (from tensorflow) (0.2.0)\n",
            "Requirement already satisfied: h5py>=2.9.0 in /usr/local/lib/python3.10/dist-packages (from tensorflow) (3.9.0)\n",
            "Requirement already satisfied: libclang>=13.0.0 in /usr/local/lib/python3.10/dist-packages (from tensorflow) (16.0.6)\n",
            "Requirement already satisfied: ml-dtypes~=0.2.0 in /usr/local/lib/python3.10/dist-packages (from tensorflow) (0.2.0)\n",
            "Requirement already satisfied: numpy<2.0.0,>=1.23.5 in /usr/local/lib/python3.10/dist-packages (from tensorflow) (1.23.5)\n",
            "Requirement already satisfied: opt-einsum>=2.3.2 in /usr/local/lib/python3.10/dist-packages (from tensorflow) (3.3.0)\n",
            "Requirement already satisfied: packaging in /usr/local/lib/python3.10/dist-packages (from tensorflow) (23.2)\n",
            "Requirement already satisfied: protobuf!=4.21.0,!=4.21.1,!=4.21.2,!=4.21.3,!=4.21.4,!=4.21.5,<5.0.0dev,>=3.20.3 in /usr/local/lib/python3.10/dist-packages (from tensorflow) (3.20.3)\n",
            "Requirement already satisfied: setuptools in /usr/local/lib/python3.10/dist-packages (from tensorflow) (67.7.2)\n",
            "Requirement already satisfied: six>=1.12.0 in /usr/local/lib/python3.10/dist-packages (from tensorflow) (1.16.0)\n",
            "Requirement already satisfied: termcolor>=1.1.0 in /usr/local/lib/python3.10/dist-packages (from tensorflow) (2.4.0)\n",
            "Requirement already satisfied: typing-extensions>=3.6.6 in /usr/local/lib/python3.10/dist-packages (from tensorflow) (4.9.0)\n",
            "Requirement already satisfied: wrapt<1.15,>=1.11.0 in /usr/local/lib/python3.10/dist-packages (from tensorflow) (1.14.1)\n",
            "Requirement already satisfied: tensorflow-io-gcs-filesystem>=0.23.1 in /usr/local/lib/python3.10/dist-packages (from tensorflow) (0.36.0)\n",
            "Requirement already satisfied: grpcio<2.0,>=1.24.3 in /usr/local/lib/python3.10/dist-packages (from tensorflow) (1.60.1)\n",
            "Requirement already satisfied: tensorboard<2.16,>=2.15 in /usr/local/lib/python3.10/dist-packages (from tensorflow) (2.15.1)\n",
            "Requirement already satisfied: tensorflow-estimator<2.16,>=2.15.0 in /usr/local/lib/python3.10/dist-packages (from tensorflow) (2.15.0)\n",
            "Requirement already satisfied: keras<2.16,>=2.15.0 in /usr/local/lib/python3.10/dist-packages (from tensorflow) (2.15.0)\n",
            "Requirement already satisfied: wheel<1.0,>=0.23.0 in /usr/local/lib/python3.10/dist-packages (from astunparse>=1.6.0->tensorflow) (0.42.0)\n",
            "Requirement already satisfied: google-auth<3,>=1.6.3 in /usr/local/lib/python3.10/dist-packages (from tensorboard<2.16,>=2.15->tensorflow) (2.27.0)\n",
            "Requirement already satisfied: google-auth-oauthlib<2,>=0.5 in /usr/local/lib/python3.10/dist-packages (from tensorboard<2.16,>=2.15->tensorflow) (1.2.0)\n",
            "Requirement already satisfied: markdown>=2.6.8 in /usr/local/lib/python3.10/dist-packages (from tensorboard<2.16,>=2.15->tensorflow) (3.5.2)\n",
            "Requirement already satisfied: requests<3,>=2.21.0 in /usr/local/lib/python3.10/dist-packages (from tensorboard<2.16,>=2.15->tensorflow) (2.31.0)\n",
            "Requirement already satisfied: tensorboard-data-server<0.8.0,>=0.7.0 in /usr/local/lib/python3.10/dist-packages (from tensorboard<2.16,>=2.15->tensorflow) (0.7.2)\n",
            "Requirement already satisfied: werkzeug>=1.0.1 in /usr/local/lib/python3.10/dist-packages (from tensorboard<2.16,>=2.15->tensorflow) (3.0.1)\n",
            "Requirement already satisfied: cachetools<6.0,>=2.0.0 in /usr/local/lib/python3.10/dist-packages (from google-auth<3,>=1.6.3->tensorboard<2.16,>=2.15->tensorflow) (5.3.2)\n",
            "Requirement already satisfied: pyasn1-modules>=0.2.1 in /usr/local/lib/python3.10/dist-packages (from google-auth<3,>=1.6.3->tensorboard<2.16,>=2.15->tensorflow) (0.3.0)\n",
            "Requirement already satisfied: rsa<5,>=3.1.4 in /usr/local/lib/python3.10/dist-packages (from google-auth<3,>=1.6.3->tensorboard<2.16,>=2.15->tensorflow) (4.9)\n",
            "Requirement already satisfied: requests-oauthlib>=0.7.0 in /usr/local/lib/python3.10/dist-packages (from google-auth-oauthlib<2,>=0.5->tensorboard<2.16,>=2.15->tensorflow) (1.3.1)\n",
            "Requirement already satisfied: charset-normalizer<4,>=2 in /usr/local/lib/python3.10/dist-packages (from requests<3,>=2.21.0->tensorboard<2.16,>=2.15->tensorflow) (3.3.2)\n",
            "Requirement already satisfied: idna<4,>=2.5 in /usr/local/lib/python3.10/dist-packages (from requests<3,>=2.21.0->tensorboard<2.16,>=2.15->tensorflow) (3.6)\n",
            "Requirement already satisfied: urllib3<3,>=1.21.1 in /usr/local/lib/python3.10/dist-packages (from requests<3,>=2.21.0->tensorboard<2.16,>=2.15->tensorflow) (2.0.7)\n",
            "Requirement already satisfied: certifi>=2017.4.17 in /usr/local/lib/python3.10/dist-packages (from requests<3,>=2.21.0->tensorboard<2.16,>=2.15->tensorflow) (2024.2.2)\n",
            "Requirement already satisfied: MarkupSafe>=2.1.1 in /usr/local/lib/python3.10/dist-packages (from werkzeug>=1.0.1->tensorboard<2.16,>=2.15->tensorflow) (2.1.5)\n",
            "Requirement already satisfied: pyasn1<0.6.0,>=0.4.6 in /usr/local/lib/python3.10/dist-packages (from pyasn1-modules>=0.2.1->google-auth<3,>=1.6.3->tensorboard<2.16,>=2.15->tensorflow) (0.5.1)\n",
            "Requirement already satisfied: oauthlib>=3.0.0 in /usr/local/lib/python3.10/dist-packages (from requests-oauthlib>=0.7.0->google-auth-oauthlib<2,>=0.5->tensorboard<2.16,>=2.15->tensorflow) (3.2.2)\n"
          ]
        }
      ],
      "source": [
        "# Install necessary libraries\n",
        "!pip install tensorflow\n",
        "\n",
        "# Import libraries\n",
        "import tensorflow as tf\n",
        "from tensorflow.keras.layers import Input, LSTM, Embedding, Dense\n",
        "from tensorflow.keras.models import Model\n",
        "from tensorflow.keras.preprocessing.text import Tokenizer\n",
        "from tensorflow.keras.preprocessing.sequence import pad_sequences"
      ]
    },
    {
      "cell_type": "code",
      "execution_count": null,
      "metadata": {
        "id": "K5g5ZJVNe0Ir"
      },
      "outputs": [],
      "source": [
        "# Import necessary libraries\n",
        "from sklearn.model_selection import train_test_split\n",
        "\n",
        "# Load the multi_news dataset from here\n",
        "from datasets import load_dataset\n",
        "\n",
        "# Load the multi_news dataset\n",
        "dataset = load_dataset(\"multi_news\")\n",
        "\n",
        "# Access train split\n",
        "train_data = dataset[\"train\"]\n",
        "\n",
        "# Define the desired number of rows to subsample\n",
        "n = 1000  # Replace this with your desired number of rows\n",
        "\n",
        "# Subsample your data\n",
        "train_data_subsample, _ = train_test_split(train_data, train_size=n, random_state=42)\n",
        "\n",
        "# Tokenize the text data\n",
        "tokenizer_source = Tokenizer()\n",
        "tokenizer_target = Tokenizer()\n",
        "\n",
        "tokenizer_source.fit_on_texts(train_data_subsample['document'])\n",
        "tokenizer_target.fit_on_texts(train_data_subsample['summary'])\n"
      ]
    },
    {
      "cell_type": "code",
      "execution_count": null,
      "metadata": {
        "colab": {
          "base_uri": "https://localhost:8080/"
        },
        "id": "q9svLyEufH9H",
        "outputId": "7c89008b-bd7f-46b9-a396-509d2ff460ed"
      },
      "outputs": [
        {
          "output_type": "stream",
          "name": "stderr",
          "text": [
            "Tokenization: 100%|██████████| 2/2 [02:42<00:00, 81.02s/it] \n"
          ]
        }
      ],
      "source": [
        "from concurrent.futures import ProcessPoolExecutor\n",
        "from tqdm import tqdm  # Optional: for progress tracking\n",
        "\n",
        "# Define a function for parallel tokenization\n",
        "def tokenize_column(column):\n",
        "    tokenizer = Tokenizer()\n",
        "    tokenizer.fit_on_texts(column)\n",
        "    return tokenizer\n",
        "\n",
        "# Assuming you have loaded or defined your training data\n",
        "# Replace 'train_data' with your actual dataset\n",
        "\n",
        "# Define the columns to tokenize\n",
        "source_text_column = train_data['document']\n",
        "target_text_column = train_data['summary']\n",
        "\n",
        "# Use ProcessPoolExecutor for parallelization\n",
        "with ProcessPoolExecutor() as executor:\n",
        "    # Tokenize source text and target text in parallel\n",
        "    future_source = executor.submit(tokenize_column, source_text_column)\n",
        "    future_target = executor.submit(tokenize_column, target_text_column)\n",
        "\n",
        "    # Optional: Track progress using tqdm\n",
        "    futures = [future_source, future_target]\n",
        "    for f in tqdm(futures, total=len(futures), desc=\"Tokenization\"):\n",
        "        f.result()\n",
        "\n",
        "# Retrieve the tokenizers\n",
        "tokenizer_source = future_source.result()\n",
        "tokenizer_target = future_target.result()\n"
      ]
    },
    {
      "cell_type": "markdown",
      "metadata": {
        "id": "1RXAuuk6gSoR"
      },
      "source": [
        "**Ensure proper handling of input and output sequences.**"
      ]
    },
    {
      "cell_type": "code",
      "execution_count": null,
      "metadata": {
        "colab": {
          "base_uri": "https://localhost:8080/"
        },
        "id": "IOk22WXEmGze",
        "outputId": "4a127eae-a3bb-4816-e1cc-6c4deb663bac"
      },
      "outputs": [
        {
          "output_type": "stream",
          "name": "stdout",
          "text": [
            "X_source_padded: [[3 4 5 6 1 2]\n",
            " [7 1 2 0 0 0]]\n",
            "X_target_input_padded: [[5 6 7 8 1 3 0 0]\n",
            " [9 1 3 0 0 0 0 0]]\n",
            "y_target_output_padded: [[5 6 7 8 1 2 3 4]\n",
            " [9 1 2 3 4 0 0 0]]\n"
          ]
        }
      ],
      "source": [
        "import tensorflow as tf\n",
        "from tensorflow.keras.preprocessing.text import Tokenizer\n",
        "from tensorflow.keras.preprocessing.sequence import pad_sequences\n",
        "\n",
        "# Placeholder data (replace this with your actual data)\n",
        "X_source = [\"This is a sample source sentence.\", \"Another source sentence.\"]\n",
        "X_target_input = [\"<start> This is a sample target input sentence.\", \"<start> Another target input sentence.\"]\n",
        "y_target_output = [\"This is a sample target output sentence. <end>\", \"Another target output sentence. <end>\"]\n",
        "\n",
        "# Tokenize the source and target texts\n",
        "tokenizer_source = Tokenizer()\n",
        "tokenizer_target = Tokenizer()\n",
        "\n",
        "tokenizer_source.fit_on_texts(X_source)\n",
        "tokenizer_target.fit_on_texts(y_target_output)\n",
        "\n",
        "# Convert text sequences to numerical sequences\n",
        "X_source_seq = tokenizer_source.texts_to_sequences(X_source)\n",
        "X_target_input_seq = tokenizer_target.texts_to_sequences(X_target_input)\n",
        "y_target_output_seq = tokenizer_target.texts_to_sequences(y_target_output)\n",
        "\n",
        "# Pad sequences to ensure uniform length\n",
        "max_len_source = max(len(seq) for seq in X_source_seq)\n",
        "max_len_target = max(len(seq) for seq in y_target_output_seq)\n",
        "\n",
        "X_source_padded = pad_sequences(X_source_seq, maxlen=max_len_source, padding='post')\n",
        "X_target_input_padded = pad_sequences(X_target_input_seq, maxlen=max_len_target, padding='post')\n",
        "y_target_output_padded = pad_sequences(y_target_output_seq, maxlen=max_len_target, padding='post')\n",
        "\n",
        "# Print the results\n",
        "print(\"X_source_padded:\", X_source_padded)\n",
        "print(\"X_target_input_padded:\", X_target_input_padded)\n",
        "print(\"y_target_output_padded:\", y_target_output_padded)\n"
      ]
    },
    {
      "cell_type": "markdown",
      "metadata": {
        "id": "GgcwuHilmRFW"
      },
      "source": [
        "**Implement the hybrid Pointer-Generator Network and integrate the coverage mechanism.**"
      ]
    },
    {
      "cell_type": "markdown",
      "metadata": {
        "id": "vRwlE2YYmeX6"
      },
      "source": [
        "AttentionWithCoverage is a custom attention layer that includes coverage mechanism.\n",
        "\n",
        "The model has two output branches: one for the combined probabilities (for generating words) and another for the coverage loss.\n",
        "\n",
        "Losses are specified as a list in model.compile.\n",
        "Training data should include both target sequences and coverage data.\n"
      ]
    },
    {
      "cell_type": "code",
      "execution_count": null,
      "metadata": {
        "id": "31ftyGDYqB86"
      },
      "outputs": [],
      "source": [
        "import tensorflow as tf\n",
        "from tensorflow.keras.layers import Input, Embedding, LSTM, Dense, Attention, Concatenate, Lambda\n",
        "from tensorflow.keras.models import Model\n",
        "from tensorflow.keras import backend as K\n",
        "from tensorflow.keras.preprocessing.sequence import pad_sequences\n",
        "from tensorflow.keras.preprocessing.text import Tokenizer\n",
        "import numpy as np\n"
      ]
    },
    {
      "cell_type": "code",
      "execution_count": null,
      "metadata": {
        "id": "ItYi1gn5qEK1"
      },
      "outputs": [],
      "source": [
        "# Placeholder values (replace these with your actual dataset characteristics)\n",
        "vocab_size_source = 5000\n",
        "vocab_size_target = 7000\n",
        "max_len_source = 50\n",
        "max_len_target = 60\n",
        "embedding_dim = 128\n",
        "latent_dim = 256"
      ]
    },
    {
      "cell_type": "code",
      "execution_count": null,
      "metadata": {
        "id": "x3pKSNo9qKX9"
      },
      "outputs": [],
      "source": [
        "# Placeholder data (replace this with your actual data)\n",
        "X_source = [\n",
        "    \"This is the first source sentence.\",\n",
        "    \"Another source sentence goes here.\",\n",
        "    # Add more source sentences as needed\n",
        "]\n",
        "\n",
        "X_target_input = [\n",
        "    \"<start> This is the first target input sentence.\",\n",
        "    \"<start> Another target input sentence here.\",\n",
        "    # Add more target input sentences as needed\n",
        "]\n",
        "\n",
        "y_target_output = [\n",
        "    \"This is the first target output sentence. <end>\",\n",
        "    \"Another target output sentence here. <end>\",\n",
        "    # Add more target output sentences as needed\n",
        "]"
      ]
    },
    {
      "cell_type": "code",
      "execution_count": null,
      "metadata": {
        "id": "wI00ZzfZqTnQ"
      },
      "outputs": [],
      "source": [
        "# Tokenize the source and target texts\n",
        "tokenizer_source = Tokenizer(num_words=vocab_size_source, oov_token=\"<OOV>\")\n",
        "tokenizer_target = Tokenizer(num_words=vocab_size_target, oov_token=\"<OOV>\")\n",
        "\n",
        "tokenizer_source.fit_on_texts(X_source)\n",
        "tokenizer_target.fit_on_texts(y_target_output)\n",
        "\n",
        "X_source_seq = tokenizer_source.texts_to_sequences(X_source)\n",
        "X_target_input_seq = tokenizer_target.texts_to_sequences(X_target_input)\n",
        "y_target_output_seq = tokenizer_target.texts_to_sequences(y_target_output)\n",
        "\n",
        "X_source_padded = pad_sequences(X_source_seq, maxlen=max_len_source, padding='post')\n",
        "X_target_input_padded = pad_sequences(X_target_input_seq, maxlen=max_len_target, padding='post')\n",
        "y_target_output_padded = pad_sequences(y_target_output_seq, maxlen=max_len_target, padding='post')"
      ]
    },
    {
      "cell_type": "code",
      "source": [
        "pip install --upgrade tensorflow\n"
      ],
      "metadata": {
        "id": "-tl9FOoVUHQT"
      },
      "execution_count": null,
      "outputs": []
    },
    {
      "cell_type": "code",
      "source": [
        "from tensorflow.keras.preprocessing.sequence import pad_sequences\n"
      ],
      "metadata": {
        "id": "KApCpj_SUlnz"
      },
      "execution_count": null,
      "outputs": []
    },
    {
      "cell_type": "code",
      "execution_count": null,
      "metadata": {
        "id": "fY93YMV2tFDg"
      },
      "outputs": [],
      "source": [
        "from tensorflow.keras.preprocessing.sequence import pad_sequences\n",
        "\n",
        "from keras.utils import to_categorical\n",
        "import numpy as np\n",
        "\n",
        "# Placeholder data (replace this with your actual data)\n",
        "X_source = [\n",
        "    \"This is the first source sequence.\",\n",
        "    \"Another source sequence here.\",\n",
        "    \"And a third source sequence.\"\n",
        "]\n",
        "\n",
        "X_target_input = [\n",
        "    \"Start of target sequence one.\",\n",
        "    \"Beginning of target sequence two.\",\n",
        "    \"Initiating target sequence three.\"\n",
        "]\n",
        "\n",
        "y_target_output = [\n",
        "    \"Start of target sequence one. End of target sequence one.\",\n",
        "    \"Beginning of target sequence two. End of target sequence two.\",\n",
        "    \"Initiating target sequence three. End of target sequence three.\"\n",
        "]\n",
        "\n",
        "# Tokenize the source and target sequences\n",
        "tokenizer_source = Tokenizer()\n",
        "tokenizer_target = Tokenizer()\n",
        "\n",
        "tokenizer_source.fit_on_texts(X_source)\n",
        "tokenizer_target.fit_on_texts(X_target_input + y_target_output)\n",
        "\n",
        "# Convert text sequences to numerical sequences\n",
        "X_source_seq = tokenizer_source.texts_to_sequences(X_source)\n",
        "X_target_input_seq = tokenizer_target.texts_to_sequences(X_target_input)\n",
        "y_target_output_seq = tokenizer_target.texts_to_sequences(y_target_output)\n",
        "\n",
        "# Pad sequences to a maximum length\n",
        "max_len_source = max(len(seq) for seq in X_source_seq)\n",
        "max_len_target = max(len(seq) for seq in X_target_input_seq + y_target_output_seq)\n",
        "\n",
        "X_source_padded = pad_sequences(X_source_seq, maxlen=max_len_source, padding='post')\n",
        "X_target_input_padded = pad_sequences(X_target_input_seq, maxlen=max_len_target, padding='post')\n",
        "y_target_output_padded = pad_sequences(y_target_output_seq, maxlen=max_len_target, padding='post')\n",
        "\n",
        "# Convert y_target_output to one-hot encoding\n",
        "vocab_size_target = len(tokenizer_target.word_index) + 1  # Add 1 for the padding token\n",
        "y_target_output_one_hot = to_categorical(y_target_output_padded, num_classes=vocab_size_target)\n",
        "\n",
        "# Ensure y_target_output_one_hot has the correct shape (batch_size, sequence_length, vocab_size)\n",
        "y_target_output_one_hot = y_target_output_one_hot.reshape(\n",
        "    len(X_target_input), max_len_target, -1\n",
        ")\n",
        "\n",
        "# Continue with the rest of your model training...\n"
      ]
    },
    {
      "cell_type": "code",
      "execution_count": null,
      "metadata": {
        "colab": {
          "base_uri": "https://localhost:8080/"
        },
        "id": "mfQ21Gx_tqEc",
        "outputId": "7042df0b-b9e8-4352-fa4a-c863853d75e2"
      },
      "outputs": [
        {
          "output_type": "stream",
          "name": "stdout",
          "text": [
            "Model: \"model\"\n",
            "__________________________________________________________________________________________________\n",
            " Layer (type)                Output Shape                 Param #   Connected to                  \n",
            "==================================================================================================\n",
            " input_1 (InputLayer)        [(None, 6)]                  0         []                            \n",
            "                                                                                                  \n",
            " input_2 (InputLayer)        [(None, 10)]                 0         []                            \n",
            "                                                                                                  \n",
            " embedding (Embedding)       (None, 6, 50)                250000    ['input_1[0][0]']             \n",
            "                                                                                                  \n",
            " embedding_1 (Embedding)     (None, 10, 50)               550       ['input_2[0][0]']             \n",
            "                                                                                                  \n",
            " lstm (LSTM)                 [(None, 6, 100),             60400     ['embedding[0][0]']           \n",
            "                              (None, 100),                                                        \n",
            "                              (None, 100)]                                                        \n",
            "                                                                                                  \n",
            " lstm_1 (LSTM)               [(None, 10, 100),            60400     ['embedding_1[0][0]',         \n",
            "                              (None, 100),                           'lstm[0][1]',                \n",
            "                              (None, 100)]                           'lstm[0][2]']                \n",
            "                                                                                                  \n",
            " attention (Attention)       (None, 10, 100)              1         ['lstm_1[0][0]',              \n",
            "                                                                     'lstm[0][0]']                \n",
            "                                                                                                  \n",
            " concatenate (Concatenate)   (None, 10, 200)              0         ['lstm_1[0][0]',              \n",
            "                                                                     'attention[0][0]']           \n",
            "                                                                                                  \n",
            " dense (Dense)               (None, 10, 11)               2211      ['concatenate[0][0]']         \n",
            "                                                                                                  \n",
            "==================================================================================================\n",
            "Total params: 373562 (1.43 MB)\n",
            "Trainable params: 373562 (1.43 MB)\n",
            "Non-trainable params: 0 (0.00 Byte)\n",
            "__________________________________________________________________________________________________\n",
            "Epoch 1/10\n",
            "1/1 [==============================] - 14s 14s/step - loss: 2.3970 - accuracy: 0.1500 - val_loss: 2.3987 - val_accuracy: 0.1000\n"
          ]
        },
        {
          "output_type": "stream",
          "name": "stderr",
          "text": [
            "/usr/local/lib/python3.10/dist-packages/keras/src/engine/training.py:3103: UserWarning: You are saving your model as an HDF5 file via `model.save()`. This file format is considered legacy. We recommend using instead the native Keras format, e.g. `model.save('my_model.keras')`.\n",
            "  saving_api.save_model(\n"
          ]
        },
        {
          "output_type": "stream",
          "name": "stdout",
          "text": [
            "Epoch 2/10\n",
            "1/1 [==============================] - 0s 400ms/step - loss: 2.3886 - accuracy: 0.1000 - val_loss: 2.3973 - val_accuracy: 0.2000\n",
            "Epoch 3/10\n",
            "1/1 [==============================] - 0s 376ms/step - loss: 2.3801 - accuracy: 0.2000 - val_loss: 2.3958 - val_accuracy: 0.2000\n",
            "Epoch 4/10\n",
            "1/1 [==============================] - 0s 487ms/step - loss: 2.3710 - accuracy: 0.2000 - val_loss: 2.3942 - val_accuracy: 0.2000\n",
            "Epoch 5/10\n",
            "1/1 [==============================] - 0s 369ms/step - loss: 2.3612 - accuracy: 0.3000 - val_loss: 2.3926 - val_accuracy: 0.2000\n",
            "Epoch 6/10\n",
            "1/1 [==============================] - 0s 392ms/step - loss: 2.3504 - accuracy: 0.3000 - val_loss: 2.3910 - val_accuracy: 0.2000\n",
            "Epoch 7/10\n",
            "1/1 [==============================] - 0s 429ms/step - loss: 2.3383 - accuracy: 0.3000 - val_loss: 2.3894 - val_accuracy: 0.3000\n",
            "Epoch 8/10\n",
            "1/1 [==============================] - 0s 289ms/step - loss: 2.3246 - accuracy: 0.3000 - val_loss: 2.3879 - val_accuracy: 0.3000\n",
            "Epoch 9/10\n",
            "1/1 [==============================] - 0s 362ms/step - loss: 2.3087 - accuracy: 0.3000 - val_loss: 2.3865 - val_accuracy: 0.3000\n",
            "Epoch 10/10\n",
            "1/1 [==============================] - 0s 190ms/step - loss: 2.2903 - accuracy: 0.3000 - val_loss: 2.3856 - val_accuracy: 0.3000\n"
          ]
        }
      ],
      "source": [
        "from keras.models import Model\n",
        "from keras.layers import Input, Embedding, LSTM, Dense, Attention, Concatenate\n",
        "from keras.callbacks import ModelCheckpoint\n",
        "\n",
        "# Define your model architecture\n",
        "embedding_dim = 50\n",
        "latent_dim = 100\n",
        "\n",
        "# Encoder\n",
        "encoder_inputs = Input(shape=(max_len_source,))\n",
        "encoder_embedding = Embedding(input_dim=vocab_size_source, output_dim=embedding_dim)(encoder_inputs)\n",
        "encoder_lstm = LSTM(latent_dim, return_sequences=True, return_state=True)\n",
        "encoder_outputs, state_h, state_c = encoder_lstm(encoder_embedding)\n",
        "encoder_states = [state_h, state_c]\n",
        "\n",
        "# Decoder\n",
        "decoder_inputs = Input(shape=(max_len_target,))\n",
        "decoder_embedding = Embedding(input_dim=vocab_size_target, output_dim=embedding_dim)(decoder_inputs)\n",
        "decoder_lstm = LSTM(latent_dim, return_sequences=True, return_state=True)\n",
        "decoder_outputs, _, _ = decoder_lstm(decoder_embedding, initial_state=encoder_states)\n",
        "\n",
        "# Attention mechanism\n",
        "attention = Attention(use_scale=True)([decoder_outputs, encoder_outputs])\n",
        "decoder_combined_context = Concatenate(axis=-1)([decoder_outputs, attention])\n",
        "\n",
        "# Output layer\n",
        "decoder_dense = Dense(vocab_size_target, activation='softmax')\n",
        "output_probabilities = decoder_dense(decoder_combined_context)\n",
        "\n",
        "# Define the model\n",
        "model = Model([encoder_inputs, decoder_inputs], output_probabilities)\n",
        "\n",
        "# Compile the model\n",
        "model.compile(optimizer='adam', loss='categorical_crossentropy', metrics=['accuracy'])\n",
        "\n",
        "# Display the model summary\n",
        "model.summary()\n",
        "\n",
        "# Train the model\n",
        "model.fit(\n",
        "    [X_source_padded, X_target_input_padded],\n",
        "    y_target_output_one_hot,\n",
        "    epochs=10,\n",
        "    validation_split=0.2,\n",
        "    callbacks=[ModelCheckpoint(\"seq2seq_model.h5\", save_best_only=True)],\n",
        ")\n",
        "\n",
        "# Save the final model\n",
        "model.save(\"final_seq2seq_model.h5\")\n"
      ]
    },
    {
      "cell_type": "code",
      "execution_count": null,
      "metadata": {
        "colab": {
          "base_uri": "https://localhost:8080/"
        },
        "id": "kvQvvpHrvsGC",
        "outputId": "dbb6641d-56bc-4e37-98bc-45a95de5a888"
      },
      "outputs": [
        {
          "output_type": "stream",
          "name": "stdout",
          "text": [
            "Model: \"model_1\"\n",
            "__________________________________________________________________________________________________\n",
            " Layer (type)                Output Shape                 Param #   Connected to                  \n",
            "==================================================================================================\n",
            " input_3 (InputLayer)        [(None, 6)]                  0         []                            \n",
            "                                                                                                  \n",
            " input_4 (InputLayer)        [(None, 10)]                 0         []                            \n",
            "                                                                                                  \n",
            " embedding_2 (Embedding)     (None, 6, 50)                600       ['input_3[0][0]']             \n",
            "                                                                                                  \n",
            " embedding_3 (Embedding)     (None, 10, 50)               550       ['input_4[0][0]']             \n",
            "                                                                                                  \n",
            " lstm_2 (LSTM)               [(None, 6, 100),             60400     ['embedding_2[0][0]']         \n",
            "                              (None, 100),                                                        \n",
            "                              (None, 100)]                                                        \n",
            "                                                                                                  \n",
            " lstm_3 (LSTM)               [(None, 10, 100),            60400     ['embedding_3[0][0]',         \n",
            "                              (None, 100),                           'lstm_2[0][1]',              \n",
            "                              (None, 100)]                           'lstm_2[0][2]']              \n",
            "                                                                                                  \n",
            " attention_1 (Attention)     (None, 10, 100)              1         ['lstm_3[0][0]',              \n",
            "                                                                     'lstm_2[0][0]']              \n",
            "                                                                                                  \n",
            " concatenate_1 (Concatenate  (None, 10, 200)              0         ['lstm_3[0][0]',              \n",
            " )                                                                   'attention_1[0][0]']         \n",
            "                                                                                                  \n",
            " dense_1 (Dense)             (None, 10, 11)               2211      ['concatenate_1[0][0]']       \n",
            "                                                                                                  \n",
            "==================================================================================================\n",
            "Total params: 124162 (485.01 KB)\n",
            "Trainable params: 124162 (485.01 KB)\n",
            "Non-trainable params: 0 (0.00 Byte)\n",
            "__________________________________________________________________________________________________\n",
            "Epoch 1/10\n",
            "1/1 [==============================] - 11s 11s/step - loss: 2.3985 - accuracy: 0.0000e+00 - val_loss: 2.3978 - val_accuracy: 0.1000\n",
            "Epoch 2/10\n",
            "1/1 [==============================] - 0s 102ms/step - loss: 2.3911 - accuracy: 0.1500 - val_loss: 2.3970 - val_accuracy: 0.1000\n",
            "Epoch 3/10\n",
            "1/1 [==============================] - 0s 109ms/step - loss: 2.3837 - accuracy: 0.2000 - val_loss: 2.3962 - val_accuracy: 0.2000\n",
            "Epoch 4/10\n",
            "1/1 [==============================] - 0s 105ms/step - loss: 2.3761 - accuracy: 0.2000 - val_loss: 2.3954 - val_accuracy: 0.2000\n",
            "Epoch 5/10\n",
            "1/1 [==============================] - 0s 103ms/step - loss: 2.3680 - accuracy: 0.2500 - val_loss: 2.3946 - val_accuracy: 0.2000\n",
            "Epoch 6/10\n",
            "1/1 [==============================] - 0s 108ms/step - loss: 2.3592 - accuracy: 0.2500 - val_loss: 2.3938 - val_accuracy: 0.2000\n",
            "Epoch 7/10\n",
            "1/1 [==============================] - 0s 122ms/step - loss: 2.3495 - accuracy: 0.3000 - val_loss: 2.3929 - val_accuracy: 0.2000\n",
            "Epoch 8/10\n",
            "1/1 [==============================] - 0s 89ms/step - loss: 2.3387 - accuracy: 0.3000 - val_loss: 2.3920 - val_accuracy: 0.2000\n",
            "Epoch 9/10\n",
            "1/1 [==============================] - 0s 112ms/step - loss: 2.3265 - accuracy: 0.3000 - val_loss: 2.3912 - val_accuracy: 0.2000\n",
            "Epoch 10/10\n",
            "1/1 [==============================] - 0s 93ms/step - loss: 2.3125 - accuracy: 0.3000 - val_loss: 2.3905 - val_accuracy: 0.2000\n"
          ]
        }
      ],
      "source": [
        "from tensorflow.keras.preprocessing.sequence import pad_sequences\n",
        "\n",
        "from keras.utils import to_categorical\n",
        "from keras.models import Model\n",
        "from keras.layers import Input, Embedding, LSTM, Dense, Attention, Concatenate\n",
        "from keras.callbacks import ModelCheckpoint\n",
        "from keras.preprocessing.text import Tokenizer\n",
        "\n",
        "# Placeholder data (replace this with your actual data)\n",
        "X_source = [\n",
        "    \"This is the first source sequence.\",\n",
        "    \"Another source sequence here.\",\n",
        "    \"And a third source sequence.\"\n",
        "]\n",
        "\n",
        "X_target_input = [\n",
        "    \"Start of target sequence one.\",\n",
        "    \"Beginning of target sequence two.\",\n",
        "    \"Initiating target sequence three.\"\n",
        "]\n",
        "\n",
        "y_target_output = [\n",
        "    \"Start of target sequence one. End of target sequence one.\",\n",
        "    \"Beginning of target sequence two. End of target sequence two.\",\n",
        "    \"Initiating target sequence three. End of target sequence three.\"\n",
        "]\n",
        "\n",
        "# Tokenize the source and target sequences\n",
        "tokenizer_source = Tokenizer()\n",
        "tokenizer_target = Tokenizer()\n",
        "\n",
        "tokenizer_source.fit_on_texts(X_source)\n",
        "tokenizer_target.fit_on_texts(X_target_input + y_target_output)\n",
        "\n",
        "# Convert text sequences to numerical sequences\n",
        "X_source_seq = tokenizer_source.texts_to_sequences(X_source)\n",
        "X_target_input_seq = tokenizer_target.texts_to_sequences(X_target_input)\n",
        "y_target_output_seq = tokenizer_target.texts_to_sequences(y_target_output)\n",
        "\n",
        "# Pad sequences to a maximum length\n",
        "max_len_source = max(len(seq) for seq in X_source_seq)\n",
        "max_len_target = max(len(seq) for seq in X_target_input_seq + y_target_output_seq)\n",
        "\n",
        "X_source_padded = pad_sequences(X_source_seq, maxlen=max_len_source, padding='post')\n",
        "X_target_input_padded = pad_sequences(X_target_input_seq, maxlen=max_len_target, padding='post')\n",
        "y_target_output_padded = pad_sequences(y_target_output_seq, maxlen=max_len_target, padding='post')\n",
        "\n",
        "# Convert y_target_output to one-hot encoding\n",
        "vocab_size_target = len(tokenizer_target.word_index) + 1  # Add 1 for the padding token\n",
        "y_target_output_one_hot = to_categorical(y_target_output_padded, num_classes=vocab_size_target)\n",
        "\n",
        "# Ensure y_target_output_one_hot has the correct shape (batch_size, sequence_length, vocab_size)\n",
        "y_target_output_one_hot = y_target_output_one_hot.reshape(\n",
        "    len(X_target_input), max_len_target, -1\n",
        ")\n",
        "\n",
        "# Define your model architecture\n",
        "embedding_dim = 50\n",
        "latent_dim = 100\n",
        "\n",
        "# Encoder\n",
        "encoder_inputs = Input(shape=(max_len_source,))\n",
        "encoder_embedding = Embedding(input_dim=len(tokenizer_source.word_index) + 1, output_dim=embedding_dim)(encoder_inputs)\n",
        "encoder_lstm = LSTM(latent_dim, return_sequences=True, return_state=True)\n",
        "encoder_outputs, state_h, state_c = encoder_lstm(encoder_embedding)\n",
        "encoder_states = [state_h, state_c]\n",
        "\n",
        "# Decoder\n",
        "decoder_inputs = Input(shape=(max_len_target,))\n",
        "decoder_embedding = Embedding(input_dim=vocab_size_target, output_dim=embedding_dim)(decoder_inputs)\n",
        "decoder_lstm = LSTM(latent_dim, return_sequences=True, return_state=True)\n",
        "decoder_outputs, _, _ = decoder_lstm(decoder_embedding, initial_state=encoder_states)\n",
        "\n",
        "# Attention mechanism\n",
        "attention = Attention(use_scale=True)([decoder_outputs, encoder_outputs])\n",
        "decoder_combined_context = Concatenate(axis=-1)([decoder_outputs, attention])\n",
        "\n",
        "# Output layer\n",
        "decoder_dense = Dense(vocab_size_target, activation='softmax')\n",
        "output_probabilities = decoder_dense(decoder_combined_context)\n",
        "\n",
        "# Define the model\n",
        "model = Model([encoder_inputs, decoder_inputs], output_probabilities)\n",
        "\n",
        "# Compile the model\n",
        "model.compile(optimizer='adam', loss='categorical_crossentropy', metrics=['accuracy'])\n",
        "\n",
        "# Display the model summary\n",
        "model.summary()\n",
        "\n",
        "# Train the model\n",
        "model.fit(\n",
        "    [X_source_padded, X_target_input_padded],\n",
        "    y_target_output_one_hot,\n",
        "    epochs=10,\n",
        "    validation_split=0.2,\n",
        "    callbacks=[ModelCheckpoint(\"seq2seq_model.h5\", save_best_only=True)],\n",
        ")\n",
        "\n",
        "# Save the final model\n",
        "model.save(\"final_seq2seq_model.h5\")\n"
      ]
    },
    {
      "cell_type": "markdown",
      "metadata": {
        "id": "_JSMYVsYxjFi"
      },
      "source": [
        "**4.Training the Model:**\n",
        "\n",
        "a) Train the Seq2Seq model using the training dataset.\n",
        "\n",
        "b) Monitor training progress and adjust hyperparameters if needed"
      ]
    },
    {
      "cell_type": "markdown",
      "metadata": {
        "id": "UhruXr5rydrH"
      },
      "source": [
        "**a) Train the Seq2Seq Model:**"
      ]
    },
    {
      "cell_type": "code",
      "execution_count": null,
      "metadata": {
        "colab": {
          "base_uri": "https://localhost:8080/"
        },
        "id": "48gcl7Lxx5uM",
        "outputId": "7e2e240a-684e-4a7f-b90e-4ce3ab2791f0"
      },
      "outputs": [
        {
          "output_type": "stream",
          "name": "stdout",
          "text": [
            "Epoch 1/15\n",
            "1/1 [==============================] - 0s 384ms/step - loss: 2.2965 - accuracy: 0.3000 - val_loss: 2.3900 - val_accuracy: 0.2000\n",
            "Epoch 2/15\n",
            "1/1 [==============================] - 0s 179ms/step - loss: 2.2779 - accuracy: 0.3000 - val_loss: 2.3900 - val_accuracy: 0.2000\n",
            "Epoch 3/15\n",
            "1/1 [==============================] - 0s 95ms/step - loss: 2.2562 - accuracy: 0.3000 - val_loss: 2.3908 - val_accuracy: 0.2000\n",
            "Epoch 4/15\n",
            "1/1 [==============================] - 0s 89ms/step - loss: 2.2307 - accuracy: 0.3000 - val_loss: 2.3930 - val_accuracy: 0.2000\n",
            "Epoch 5/15\n",
            "1/1 [==============================] - 0s 85ms/step - loss: 2.2006 - accuracy: 0.3000 - val_loss: 2.3978 - val_accuracy: 0.2000\n",
            "Epoch 6/15\n",
            "1/1 [==============================] - 0s 77ms/step - loss: 2.1653 - accuracy: 0.3000 - val_loss: 2.4069 - val_accuracy: 0.2000\n",
            "Epoch 7/15\n",
            "1/1 [==============================] - 0s 82ms/step - loss: 2.1241 - accuracy: 0.3000 - val_loss: 2.4235 - val_accuracy: 0.2000\n",
            "Epoch 8/15\n",
            "1/1 [==============================] - 0s 78ms/step - loss: 2.0773 - accuracy: 0.3000 - val_loss: 2.4531 - val_accuracy: 0.2000\n",
            "Epoch 9/15\n",
            "1/1 [==============================] - 0s 65ms/step - loss: 2.0268 - accuracy: 0.3000 - val_loss: 2.5037 - val_accuracy: 0.2000\n",
            "Epoch 10/15\n",
            "1/1 [==============================] - 0s 59ms/step - loss: 1.9776 - accuracy: 0.3000 - val_loss: 2.5841 - val_accuracy: 0.2000\n",
            "Epoch 11/15\n",
            "1/1 [==============================] - 0s 66ms/step - loss: 1.9378 - accuracy: 0.3000 - val_loss: 2.6926 - val_accuracy: 0.2000\n",
            "Epoch 12/15\n",
            "1/1 [==============================] - 0s 56ms/step - loss: 1.9115 - accuracy: 0.3000 - val_loss: 2.8091 - val_accuracy: 0.1000\n",
            "Epoch 13/15\n",
            "1/1 [==============================] - 0s 68ms/step - loss: 1.8919 - accuracy: 0.3000 - val_loss: 2.9164 - val_accuracy: 0.1000\n",
            "Epoch 14/15\n",
            "1/1 [==============================] - 0s 62ms/step - loss: 1.8728 - accuracy: 0.2500 - val_loss: 3.0091 - val_accuracy: 0.1000\n",
            "Epoch 15/15\n",
            "1/1 [==============================] - 0s 54ms/step - loss: 1.8542 - accuracy: 0.2000 - val_loss: 3.0864 - val_accuracy: 0.1000\n"
          ]
        }
      ],
      "source": [
        "# Assuming you've already defined and compiled your model (as shown in the previous code)\n",
        "\n",
        "# Train the model\n",
        "history = model.fit(\n",
        "    [X_source_padded, X_target_input_padded],\n",
        "    y_target_output_one_hot,\n",
        "    epochs=15,\n",
        "    validation_split=0.2,\n",
        "    callbacks=[ModelCheckpoint(\"seq2seq_model.h5\", save_best_only=True)],\n",
        ")\n",
        "\n",
        "# Save the final model\n",
        "model.save(\"final_seq2seq_model.h5\")\n"
      ]
    },
    {
      "cell_type": "markdown",
      "metadata": {
        "id": "ogG-1zcAy-c8"
      },
      "source": [
        "**b) Monitor Training Progress:**"
      ]
    },
    {
      "cell_type": "code",
      "execution_count": null,
      "metadata": {
        "colab": {
          "base_uri": "https://localhost:8080/",
          "height": 927
        },
        "id": "j_KNZrRE2JMf",
        "outputId": "d266052a-6cf4-41eb-ab17-1c2e934ac0c8"
      },
      "outputs": [
        {
          "output_type": "display_data",
          "data": {
            "text/plain": [
              "<Figure size 640x480 with 1 Axes>"
            ],
            "image/png": "[encoded data removed]"
          },
          "metadata": {}
        },
        {
          "output_type": "display_data",
          "data": {
            "text/plain": [
              "<Figure size 640x480 with 1 Axes>"
            ],
            "image/png": "[encoded data removed]"
          },
          "metadata": {}
        }
      ],
      "source": [
        "import matplotlib.pyplot as plt\n",
        "\n",
        "# Access training history for plotting\n",
        "loss = history.history['loss']\n",
        "val_loss = history.history['val_loss']\n",
        "accuracy = history.history['accuracy']\n",
        "val_accuracy = history.history['val_accuracy']\n",
        "\n",
        "# Plot training loss\n",
        "plt.plot(loss, label='Training Loss')\n",
        "plt.plot(val_loss, label='Validation Loss')\n",
        "plt.title('Training and Validation Loss')\n",
        "plt.xlabel('Epoch')\n",
        "plt.ylabel('Loss')\n",
        "plt.legend()\n",
        "plt.show()\n",
        "\n",
        "# Plot training accuracy\n",
        "plt.plot(accuracy, label='Training Accuracy')\n",
        "plt.plot(val_accuracy, label='Validation Accuracy')\n",
        "plt.title('Training and Validation Accuracy')\n",
        "plt.xlabel('Epoch')\n",
        "plt.ylabel('Accuracy')\n",
        "plt.legend()\n",
        "plt.show()\n"
      ]
    },
    {
      "cell_type": "code",
      "execution_count": null,
      "metadata": {
        "colab": {
          "base_uri": "https://localhost:8080/",
          "height": 849
        },
        "id": "S8IK89fsx19G",
        "outputId": "2ca78e30-73c2-4756-a780-7f5fc866ba1f"
      },
      "outputs": [
        {
          "output_type": "display_data",
          "data": {
            "text/plain": [
              "<Figure size 640x480 with 1 Axes>"
            ],
            "image/png": "[encoded data removed]"
          },
          "metadata": {}
        },
        {
          "output_type": "display_data",
          "data": {
            "text/plain": [
              "<Figure size 640x480 with 1 Axes>"
            ],
            "image/png": "[encoded data removed]"
          },
          "metadata": {}
        }
      ],
      "source": [
        "import matplotlib.pyplot as plt\n",
        "from mpl_toolkits.mplot3d import Axes3D\n",
        "\n",
        "# Access training history for plotting\n",
        "epochs = range(1, len(loss) + 1)\n",
        "\n",
        "# 3D plot for Loss\n",
        "fig_loss = plt.figure()\n",
        "ax_loss = fig_loss.add_subplot(111, projection='3d')\n",
        "ax_loss.plot(epochs, loss, zs=0, zdir='y', label='Training Loss')\n",
        "ax_loss.plot(epochs, val_loss, zs=1, zdir='y', label='Validation Loss')\n",
        "ax_loss.set_xlabel('Epoch')\n",
        "ax_loss.set_zlabel('Loss')\n",
        "ax_loss.set_yticks([0, 1])\n",
        "ax_loss.set_yticklabels(['Training', 'Validation'])\n",
        "ax_loss.legend()\n",
        "ax_loss.set_title('Training and Validation Loss')\n",
        "\n",
        "# 3D plot for Accuracy\n",
        "fig_accuracy = plt.figure()\n",
        "ax_accuracy = fig_accuracy.add_subplot(111, projection='3d')\n",
        "ax_accuracy.plot(epochs, accuracy, zs=0, zdir='y', label='Training Accuracy')\n",
        "ax_accuracy.plot(epochs, val_accuracy, zs=1, zdir='y', label='Validation Accuracy')\n",
        "ax_accuracy.set_xlabel('Epoch')\n",
        "ax_accuracy.set_zlabel('Accuracy')\n",
        "ax_accuracy.set_yticks([0, 1])\n",
        "ax_accuracy.set_yticklabels(['Training', 'Validation'])\n",
        "ax_accuracy.legend()\n",
        "ax_accuracy.set_title('Training and Validation Accuracy')\n",
        "\n",
        "plt.show()\n"
      ]
    },
    {
      "cell_type": "code",
      "execution_count": null,
      "metadata": {
        "colab": {
          "base_uri": "https://localhost:8080/",
          "height": 523
        },
        "id": "2HK10Jt33W67",
        "outputId": "4bde861b-6308-44a0-9a04-b2fd712cb5da"
      },
      "outputs": [
        {
          "output_type": "display_data",
          "data": {
            "text/plain": [
              "<Figure size 1000x600 with 1 Axes>"
            ],
            "image/png": "[encoded data removed]"
          },
          "metadata": {}
        }
      ],
      "source": [
        "import numpy as np\n",
        "import matplotlib.pyplot as plt\n",
        "from mpl_toolkits.mplot3d import Axes3D\n",
        "\n",
        "# Generate random data (replace this with your actual data)\n",
        "epochs = np.array(range(1, 11))  # Replace with your actual epochs\n",
        "batch_sizes = np.array([8, 16, 32, 64, 128])  # Replace with your actual batch sizes\n",
        "accuracy_data = np.random.rand(len(batch_sizes), len(epochs))  # Corrected shape\n",
        "\n",
        "# Create a meshgrid for 3D plotting\n",
        "epochs, batch_sizes = np.meshgrid(epochs, batch_sizes)\n",
        "\n",
        "# Create a 3D surface plot for accuracy\n",
        "fig = plt.figure(figsize=(10, 6))\n",
        "ax = fig.add_subplot(111, projection='3d')\n",
        "ax.plot_surface(epochs, batch_sizes, accuracy_data, cmap='viridis', edgecolor='k', alpha=0.7)\n",
        "\n",
        "# Customize the plot\n",
        "ax.set_xlabel('Epochs')\n",
        "ax.set_ylabel('Batch Sizes')\n",
        "ax.set_zlabel('Accuracy')\n",
        "ax.set_title('3D Surface Plot of Accuracy')\n",
        "\n",
        "plt.show()\n"
      ]
    },
    {
      "cell_type": "markdown",
      "metadata": {
        "id": "-LRKdD4c32S6"
      },
      "source": [
        "**c) Adjusting Hyperparameters:**\n",
        "\n",
        "Here are some hyperparameters you might consider adjusting:\n",
        "\n",
        "Learning Rate: If the model is learning too slowly or not converging, you can try adjusting the learning rate of the optimizer."
      ]
    },
    {
      "cell_type": "code",
      "execution_count": null,
      "metadata": {
        "colab": {
          "base_uri": "https://localhost:8080/"
        },
        "id": "_RYyQBIR38gN",
        "outputId": "bfb4c9d7-f74f-480e-e619-45fd22c6fca2"
      },
      "outputs": [
        {
          "output_type": "stream",
          "name": "stderr",
          "text": [
            "WARNING:absl:`lr` is deprecated in Keras optimizer, please use `learning_rate` or use the legacy optimizer, e.g.,tf.keras.optimizers.legacy.Adam.\n"
          ]
        }
      ],
      "source": [
        "from keras.optimizers import Adam\n",
        "\n",
        "# Example: Adjusting learning rate\n",
        "custom_optimizer = Adam(lr=0.001)  # Change the learning rate as needed\n",
        "model.compile(optimizer=custom_optimizer, loss='categorical_crossentropy', metrics=['accuracy'])\n"
      ]
    },
    {
      "cell_type": "markdown",
      "metadata": {
        "id": "90dY2u0o5P2-"
      },
      "source": [
        "**5. Testing and Evaluation:**\n",
        "\n",
        "\n",
        "1) Train the model on the multi_news dataset in Google Colab.\n",
        "\n",
        "2) Evaluate the trained model on the testing dataset &  Evaluate the model's performance on training and testing sets.\n",
        "\n",
        "3) Calculate Bleu score, Perplexity, and other relevant\n",
        "  metrics.\n",
        "\n",
        "4) Use Rouge metrics for a comprehensive evaluation of\n",
        "   summarization quality."
      ]
    },
    {
      "cell_type": "code",
      "execution_count": null,
      "metadata": {
        "id": "MVvkM8T99AlK"
      },
      "outputs": [],
      "source": [
        "pip install rouge_score\n"
      ]
    },
    {
      "cell_type": "code",
      "execution_count": null,
      "metadata": {
        "id": "gZm5R2GD5LVJ"
      },
      "outputs": [],
      "source": [
        "import tensorflow as tf\n",
        "from tensorflow.keras.preprocessing.sequence import pad_sequences\n",
        "from tensorflow.keras.preprocessing.text import Tokenizer\n",
        "from tensorflow.keras.models import Model\n",
        "from tensorflow.keras.layers import Input, LSTM, Embedding, Dense, Attention\n",
        "import numpy as np\n",
        "from nltk.translate.bleu_score import corpus_bleu\n",
        "from rouge_score import rouge_scorer\n",
        "from sklearn.model_selection import train_test_split\n",
        "\n",
        "# Placeholder data (replace these with your actual data loading logic)\n",
        "data_source = [\"This is a source sentence 1\", \"Another source sentence 2\", \"And one more source sentence 3\"]\n",
        "data_target = [\"This is a target summary 1\", \"Another target summary 2\", \"And one more target summary 3\"]\n",
        "\n",
        "# Split the data into training and testing sets\n",
        "X_train, X_test, y_train, y_test = train_test_split(data_source, data_target, test_size=0.2, random_state=42)\n",
        "\n",
        "# Tokenize the data\n",
        "tokenizer_source = Tokenizer()\n",
        "tokenizer_target = Tokenizer()\n",
        "\n",
        "tokenizer_source.fit_on_texts(X_train)\n",
        "tokenizer_target.fit_on_texts(y_train)\n",
        "\n",
        "X_train_seq = tokenizer_source.texts_to_sequences(X_train)\n",
        "y_train_seq = tokenizer_target.texts_to_sequences(y_train)\n",
        "X_test_seq = tokenizer_source.texts_to_sequences(X_test)\n",
        "y_test_seq = tokenizer_target.texts_to_sequences(y_test)\n",
        "\n",
        "# Pad sequences\n",
        "max_len_source = max(len(seq) for seq in X_train_seq + X_test_seq)\n",
        "max_len_target = max(len(seq) for seq in y_train_seq + y_test_seq)\n",
        "\n",
        "X_train_padded = pad_sequences(X_train_seq, maxlen=max_len_source, padding='post')\n",
        "y_train_padded = pad_sequences(y_train_seq, maxlen=max_len_target, padding='post')\n",
        "X_test_padded = pad_sequences(X_test_seq, maxlen=max_len_source, padding='post')\n",
        "y_test_padded = pad_sequences(y_test_seq, maxlen=max_len_target, padding='post')\n",
        "\n",
        "# Define the Seq2Seq model with attention\n",
        "embedding_dim = 128\n",
        "latent_dim = 256\n",
        "\n",
        "encoder_inputs = Input(shape=(max_len_source,))\n",
        "encoder_embedding = Embedding(input_dim=len(tokenizer_source.word_index) + 1, output_dim=embedding_dim, input_length=max_len_source)(encoder_inputs)\n",
        "encoder_lstm = LSTM(latent_dim, return_sequences=True, return_state=True)\n",
        "encoder_outputs, state_h, state_c = encoder_lstm(encoder_embedding)\n",
        "\n",
        "decoder_inputs = Input(shape=(max_len_target,))\n",
        "decoder_embedding = Embedding(input_dim=len(tokenizer_target.word_index) + 1, output_dim=embedding_dim, input_length=max_len_target)(decoder_inputs)\n",
        "decoder_lstm = LSTM(latent_dim, return_sequences=True, return_state=True)\n",
        "decoder_outputs, _, _ = decoder_lstm(decoder_embedding, initial_state=[state_h, state_c])\n",
        "\n",
        "attention = Attention()([decoder_outputs, encoder_outputs])\n",
        "context_vector = tf.reduce_sum(attention * encoder_outputs, axis=1, keepdims=True)\n",
        "\n",
        "# Repeat context_vector along the time axis to match the shape of decoder_outputs\n",
        "context_vector = tf.repeat(context_vector, repeats=tf.shape(decoder_outputs)[1], axis=1)\n",
        "\n",
        "decoder_combined_context = tf.concat([context_vector, decoder_outputs], axis=-1)\n",
        "\n",
        "decoder_dense = Dense(len(tokenizer_target.word_index) + 1, activation='softmax')\n",
        "output = decoder_dense(decoder_combined_context)\n",
        "\n",
        "model = Model([encoder_inputs, decoder_inputs], output)\n",
        "\n",
        "# Compile the model with sparse_categorical_crossentropy\n",
        "model.compile(optimizer='adam', loss='sparse_categorical_crossentropy', metrics=['accuracy'])\n",
        "\n",
        "# Train the model\n",
        "num_epochs = 10\n",
        "batch_size = 64\n",
        "\n",
        "\n"
      ]
    },
    {
      "cell_type": "code",
      "execution_count": null,
      "metadata": {
        "id": "iJhuJIYl68bz"
      },
      "outputs": [],
      "source": [
        "# Attention\n",
        "attention = Attention()([decoder_outputs, encoder_outputs])\n",
        "context_vector = tf.reduce_sum(attention * encoder_outputs, axis=1, keepdims=True)\n",
        "\n",
        "# Repeat the context vector to match the sequence length of decoder outputs\n",
        "context_vector = tf.repeat(context_vector, repeats=tf.shape(decoder_outputs)[1], axis=1)\n",
        "\n",
        "# Concatenate context vector and decoder outputs\n",
        "decoder_combined_context = tf.concat([context_vector, decoder_outputs], axis=-1)\n",
        "\n",
        "# Dense layer for output\n",
        "decoder_dense = Dense(len(tokenizer_target.word_index) + 1, activation='softmax')\n",
        "output = decoder_dense(decoder_combined_context)\n"
      ]
    },
    {
      "cell_type": "code",
      "execution_count": null,
      "metadata": {
        "id": "6Q0XdOLlAxWt",
        "colab": {
          "base_uri": "https://localhost:8080/"
        },
        "outputId": "57e8b085-03ba-45de-ec96-36b40875645b"
      },
      "outputs": [
        {
          "output_type": "stream",
          "name": "stdout",
          "text": [
            "Requirement already satisfied: nltk in /usr/local/lib/python3.10/dist-packages (3.8.1)\n",
            "Requirement already satisfied: rouge in /usr/local/lib/python3.10/dist-packages (1.0.1)\n",
            "Requirement already satisfied: click in /usr/local/lib/python3.10/dist-packages (from nltk) (8.1.7)\n",
            "Requirement already satisfied: joblib in /usr/local/lib/python3.10/dist-packages (from nltk) (1.3.2)\n",
            "Requirement already satisfied: regex>=2021.8.3 in /usr/local/lib/python3.10/dist-packages (from nltk) (2023.12.25)\n",
            "Requirement already satisfied: tqdm in /usr/local/lib/python3.10/dist-packages (from nltk) (4.66.1)\n",
            "Requirement already satisfied: six in /usr/local/lib/python3.10/dist-packages (from rouge) (1.16.0)\n"
          ]
        }
      ],
      "source": [
        "pip install nltk rouge\n"
      ]
    },
    {
      "cell_type": "code",
      "execution_count": null,
      "metadata": {
        "id": "jegKclkQGvq7"
      },
      "outputs": [],
      "source": [
        "# Define and compile the model\n",
        "model = Model([encoder_inputs, decoder_inputs], output)\n",
        "model.compile(optimizer='adam', loss='categorical_crossentropy', metrics=['accuracy'])\n"
      ]
    },
    {
      "cell_type": "code",
      "execution_count": null,
      "metadata": {
        "colab": {
          "base_uri": "https://localhost:8080/"
        },
        "id": "BHvuYybOG0o5",
        "outputId": "c2c6f692-12e5-4495-a851-11787409d32e"
      },
      "outputs": [
        {
          "output_type": "stream",
          "name": "stdout",
          "text": [
            "Model: \"model_3\"\n",
            "__________________________________________________________________________________________________\n",
            " Layer (type)                Output Shape                 Param #   Connected to                  \n",
            "==================================================================================================\n",
            " input_5 (InputLayer)        [(None, 6)]                  0         []                            \n",
            "                                                                                                  \n",
            " input_6 (InputLayer)        [(None, 6)]                  0         []                            \n",
            "                                                                                                  \n",
            " embedding_4 (Embedding)     (None, 6, 128)               1152      ['input_5[0][0]']             \n",
            "                                                                                                  \n",
            " embedding_5 (Embedding)     (None, 6, 128)               1152      ['input_6[0][0]']             \n",
            "                                                                                                  \n",
            " lstm_4 (LSTM)               [(None, 6, 256),             394240    ['embedding_4[0][0]']         \n",
            "                              (None, 256),                                                        \n",
            "                              (None, 256)]                                                        \n",
            "                                                                                                  \n",
            " lstm_5 (LSTM)               [(None, 6, 256),             394240    ['embedding_5[0][0]',         \n",
            "                              (None, 256),                           'lstm_4[0][1]',              \n",
            "                              (None, 256)]                           'lstm_4[0][2]']              \n",
            "                                                                                                  \n",
            " attention_3 (Attention)     (None, 6, 256)               0         ['lstm_5[0][0]',              \n",
            "                                                                     'lstm_4[0][0]']              \n",
            "                                                                                                  \n",
            " tf.math.multiply_1 (TFOpLa  (None, 6, 256)               0         ['attention_3[0][0]',         \n",
            " mbda)                                                               'lstm_4[0][0]']              \n",
            "                                                                                                  \n",
            " tf.compat.v1.shape_1 (TFOp  (3,)                         0         ['lstm_5[0][0]']              \n",
            " Lambda)                                                                                          \n",
            "                                                                                                  \n",
            " tf.math.reduce_sum_1 (TFOp  (None, 1, 256)               0         ['tf.math.multiply_1[0][0]']  \n",
            " Lambda)                                                                                          \n",
            "                                                                                                  \n",
            " tf.__operators__.getitem_1  ()                           0         ['tf.compat.v1.shape_1[0][0]']\n",
            "  (SlicingOpLambda)                                                                               \n",
            "                                                                                                  \n",
            " tf.repeat_1 (TFOpLambda)    (None, 6, 256)               0         ['tf.math.reduce_sum_1[0][0]',\n",
            "                                                                     'tf.__operators__.getitem_1[0\n",
            "                                                                    ][0]']                        \n",
            "                                                                                                  \n",
            " tf.concat_1 (TFOpLambda)    (None, 6, 512)               0         ['tf.repeat_1[0][0]',         \n",
            "                                                                     'lstm_5[0][0]']              \n",
            "                                                                                                  \n",
            " dense_3 (Dense)             (None, 6, 9)                 4617      ['tf.concat_1[0][0]']         \n",
            "                                                                                                  \n",
            "==================================================================================================\n",
            "Total params: 795401 (3.03 MB)\n",
            "Trainable params: 795401 (3.03 MB)\n",
            "Non-trainable params: 0 (0.00 Byte)\n",
            "__________________________________________________________________________________________________\n"
          ]
        }
      ],
      "source": [
        "# Print the model summary\n",
        "model.summary()\n"
      ]
    },
    {
      "cell_type": "code",
      "execution_count": null,
      "metadata": {
        "colab": {
          "base_uri": "https://localhost:8080/"
        },
        "id": "07iz5ZBjIk1u",
        "outputId": "c4377d8a-99d7-4a5f-b11c-8f117a2909d4"
      },
      "outputs": [
        {
          "output_type": "stream",
          "name": "stdout",
          "text": [
            "Requirement already satisfied: pydot in /usr/local/lib/python3.10/dist-packages (1.4.2)\n",
            "Requirement already satisfied: pyparsing>=2.1.4 in /usr/local/lib/python3.10/dist-packages (from pydot) (3.1.1)\n",
            "Requirement already satisfied: graphviz in /usr/local/lib/python3.10/dist-packages (0.20.1)\n"
          ]
        }
      ],
      "source": [
        "! pip install pydot\n",
        "! pip install graphviz\n"
      ]
    },
    {
      "cell_type": "code",
      "execution_count": null,
      "metadata": {
        "colab": {
          "base_uri": "https://localhost:8080/",
          "height": 808
        },
        "id": "gYy_Y_TOI0la",
        "outputId": "49675163-2e79-4e9d-a47c-816aae7e00fb"
      },
      "outputs": [
        {
          "output_type": "execute_result",
          "data": {
            "image/png": "[encoded data removed]",
            "text/plain": [
              "<IPython.core.display.Image object>"
            ]
          },
          "metadata": {},
          "execution_count": 46
        }
      ],
      "source": [
        "from keras.utils import plot_model\n",
        "\n",
        "# Assuming 'model' is your Keras model\n",
        "plot_model(model, to_file='model_plot.png', show_shapes=True, show_layer_names=True)\n"
      ]
    },
    {
      "cell_type": "code",
      "execution_count": null,
      "metadata": {
        "id": "ajkyhJ7DK-Da"
      },
      "outputs": [],
      "source": [
        "dataset = load_dataset(\"multi_news\")"
      ]
    },
    {
      "cell_type": "code",
      "execution_count": null,
      "metadata": {
        "colab": {
          "base_uri": "https://localhost:8080/"
        },
        "id": "WYEuWzlXLVz5",
        "outputId": "e4a5492e-6c33-470b-f982-29205c59ed5b"
      },
      "outputs": [
        {
          "output_type": "stream",
          "name": "stdout",
          "text": [
            "Encoder Tokenizer Vocabulary:\n",
            "{'sentence': 1, 'encoder': 2, 'the': 3, 'for': 4, 'this': 5, 'is': 6, 'first': 7, 'another': 8, 'example': 9, 'one': 10, 'more': 11, 'to': 12, 'train': 13}\n",
            "\n",
            "Encoder Tokenizer Word Counts:\n",
            "OrderedDict([('this', 1), ('is', 1), ('the', 2), ('first', 1), ('sentence', 3), ('for', 2), ('encoder', 3), ('another', 1), ('example', 1), ('one', 1), ('more', 1), ('to', 1), ('train', 1)])\n",
            "\n",
            "Decoder Tokenizer Vocabulary:\n",
            "{'summary': 1, 'this': 2, 'is': 3, 'the': 4, 'first': 5, 'another': 6, 'example': 7, 'one': 8, 'more': 9, 'for': 10, 'training': 11}\n",
            "\n",
            "Decoder Tokenizer Word Counts:\n",
            "OrderedDict([('this', 1), ('is', 1), ('the', 1), ('first', 1), ('summary', 3), ('another', 1), ('example', 1), ('one', 1), ('more', 1), ('for', 1), ('training', 1)])\n"
          ]
        }
      ],
      "source": [
        "from keras.preprocessing.text import Tokenizer\n",
        "\n",
        "# Assuming you have training data for encoder and decoder\n",
        "from keras.preprocessing.text import Tokenizer\n",
        "\n",
        "# Assuming you have training data for encoder and decoder\n",
        "from keras.preprocessing.text import Tokenizer\n",
        "\n",
        "# Sample training data for encoder and decoder\n",
        "encoder_train_data = [\n",
        "    \"This is the first sentence for encoder.\",\n",
        "    \"Another example sentence for encoder.\",\n",
        "    \"One more sentence to train the encoder.\"\n",
        "]\n",
        "\n",
        "decoder_train_data = [\n",
        "    \"This is the first summary.\",\n",
        "    \"Another summary example.\",\n",
        "    \"One more summary for training.\"\n",
        "]\n",
        "\n",
        "# Define and fit tokenizer for encoder\n",
        "tokenizer_X = Tokenizer()\n",
        "tokenizer_X.fit_on_texts(encoder_train_data)\n",
        "\n",
        "# Define and fit tokenizer for decoder\n",
        "tokenizer_decoder = Tokenizer()\n",
        "tokenizer_decoder.fit_on_texts(decoder_train_data)\n",
        "\n",
        "# Output vocabulary and word index for encoder tokenizer\n",
        "print(\"Encoder Tokenizer Vocabulary:\")\n",
        "print(tokenizer_X.word_index)\n",
        "print(\"\\nEncoder Tokenizer Word Counts:\")\n",
        "print(tokenizer_X.word_counts)\n",
        "\n",
        "# Output vocabulary and word index for decoder tokenizer\n",
        "print(\"\\nDecoder Tokenizer Vocabulary:\")\n",
        "print(tokenizer_decoder.word_index)\n",
        "print(\"\\nDecoder Tokenizer Word Counts:\")\n",
        "print(tokenizer_decoder.word_counts)\n",
        "\n",
        "\n"
      ]
    },
    {
      "cell_type": "code",
      "execution_count": null,
      "metadata": {
        "colab": {
          "base_uri": "https://localhost:8080/"
        },
        "id": "3EMKnTcpOI4D",
        "outputId": "0cd752f1-6cce-4cbe-88a5-ebe6bdfa2519"
      },
      "outputs": [
        {
          "output_type": "stream",
          "name": "stdout",
          "text": [
            "Word Index for Encoder Tokenizer:\n",
            "{'hello': 1, 'world': 2, 'deep': 3, 'learning': 4, 'is': 5, 'fascinating': 6, 'natural': 7, 'language': 8, 'processing': 9}\n",
            "\n",
            "Word Index for Decoder Tokenizer:\n",
            "{'le': 1, 'bonjour': 2, 'monde': 3, \"l'apprentissage\": 4, 'profond': 5, 'est': 6, 'fascinant': 7, 'traitement': 8, 'du': 9, 'langage': 10, 'naturel': 11}\n",
            "\n",
            "Encoded Sequences for Encoder Training Data:\n",
            "[[1, 2], [3, 4, 5, 6], [7, 8, 9]]\n",
            "\n",
            "Encoded Sequences for Decoder Training Data:\n",
            "[[2, 1, 3], [4, 5, 6, 7], [1, 8, 9, 10, 11]]\n"
          ]
        }
      ],
      "source": [
        "from keras.preprocessing.text import Tokenizer\n",
        "import pandas as pd\n",
        "\n",
        "# Example training data for the encoder\n",
        "encoder_train_data = [\n",
        "    \"hello world\",\n",
        "    \"deep learning is fascinating\",\n",
        "    \"natural language processing\"\n",
        "]\n",
        "\n",
        "# Example training data for the decoder\n",
        "decoder_train_data = [\n",
        "    \"bonjour le monde\",\n",
        "    \"l'apprentissage profond est fascinant\",\n",
        "    \"le traitement du langage naturel\"\n",
        "]\n",
        "\n",
        "# Define and fit tokenizer for encoder\n",
        "tokenizer_X = Tokenizer()\n",
        "tokenizer_X.fit_on_texts(encoder_train_data)\n",
        "\n",
        "# Define and fit tokenizer for decoder\n",
        "tokenizer_decoder = Tokenizer()\n",
        "tokenizer_decoder.fit_on_texts(decoder_train_data)\n",
        "\n",
        "# Display word index for encoder tokenizer\n",
        "print(\"Word Index for Encoder Tokenizer:\")\n",
        "print(tokenizer_X.word_index)\n",
        "\n",
        "# Display word index for decoder tokenizer\n",
        "print(\"\\nWord Index for Decoder Tokenizer:\")\n",
        "print(tokenizer_decoder.word_index)\n",
        "\n",
        "# Display encoded sequences for encoder training data\n",
        "encoder_sequences = tokenizer_X.texts_to_sequences(encoder_train_data)\n",
        "print(\"\\nEncoded Sequences for Encoder Training Data:\")\n",
        "print(encoder_sequences)\n",
        "\n",
        "# Display encoded sequences for decoder training data\n",
        "decoder_sequences = tokenizer_decoder.texts_to_sequences(decoder_train_data)\n",
        "print(\"\\nEncoded Sequences for Decoder Training Data:\")\n",
        "print(decoder_sequences)\n"
      ]
    },
    {
      "cell_type": "code",
      "source": [
        "def load_references(file_path):\n",
        "    with open(file_path, 'r', encoding='utf-8') as file:\n",
        "        references = [line.strip() for line in file.readlines()]\n",
        "    return references\n"
      ],
      "metadata": {
        "id": "qYs2EiU_5qlP"
      },
      "execution_count": null,
      "outputs": []
    },
    {
      "cell_type": "code",
      "source": [
        "from datasets import load_dataset\n",
        "\n",
        "# Load the multi-news dataset\n",
        "dataset = load_dataset(\"multi_news\")\n",
        "\n",
        "# Explore the dataset structure\n",
        "print(dataset)\n",
        "\n",
        "# Extract reference highlights from the training split of the dataset\n",
        "reference_summaries = dataset['train']['summary']\n",
        "\n",
        "# Now you can use reference_summaries in your evaluation metrics\n"
      ],
      "metadata": {
        "colab": {
          "base_uri": "https://localhost:8080/"
        },
        "id": "RxLlkH5G8a7Y",
        "outputId": "0d8b4108-b101-44fa-b569-e41e36991a23"
      },
      "execution_count": null,
      "outputs": [
        {
          "output_type": "stream",
          "name": "stdout",
          "text": [
            "DatasetDict({\n",
            "    train: Dataset({\n",
            "        features: ['document', 'summary'],\n",
            "        num_rows: 44972\n",
            "    })\n",
            "    validation: Dataset({\n",
            "        features: ['document', 'summary'],\n",
            "        num_rows: 5622\n",
            "    })\n",
            "    test: Dataset({\n",
            "        features: ['document', 'summary'],\n",
            "        num_rows: 5622\n",
            "    })\n",
            "})\n"
          ]
        }
      ]
    },
    {
      "cell_type": "code",
      "source": [
        "from nltk.translate.bleu_score import corpus_bleu\n",
        "\n",
        "# Assuming you have generated summaries in 'predictions' and reference summaries in 'reference_summaries'\n",
        "# Make sure to replace these placeholders with your actual data\n",
        "\n",
        "# Example summaries\n",
        "summary_1 = \"The researchers discovered a new species of butterfly in the Amazon rainforest.\"\n",
        "summary_2 = \"A breakthrough in renewable energy technology was announced by scientists today.\"\n",
        "summary_3 = \"The stock market experienced a significant surge as companies reported strong quarterly earnings.\"\n",
        "\n",
        "predictions = [summary_1, summary_2, summary_3]  # Replace with your generated summaries\n",
        "reference_summaries = dataset['train']['summary']\n",
        "\n",
        "# Print the lengths of predictions and reference_summaries for debugging\n",
        "print(f'Number of predictions: {len(predictions)}')\n",
        "print(f'Number of reference summaries: {len(reference_summaries)}')\n",
        "\n",
        "# Check if the lengths match\n",
        "#assert len(predictions) == len(reference_summaries), \"Mismatch in the number of predictions and reference summaries\"\n",
        "\n",
        "# Tokenize the predictions and references\n",
        "predictions_tokens = [str(seq).split() for seq in predictions]\n",
        "references_tokens = [str(seq).split() for seq in reference_summaries]\n",
        "\n",
        "\n"
      ],
      "metadata": {
        "colab": {
          "base_uri": "https://localhost:8080/"
        },
        "id": "RUwOuj2KC5aj",
        "outputId": "6ca32235-b40f-438f-a581-fac77067e23a"
      },
      "execution_count": null,
      "outputs": [
        {
          "output_type": "stream",
          "name": "stdout",
          "text": [
            "Number of predictions: 3\n",
            "Number of reference summaries: 44972\n"
          ]
        }
      ]
    },
    {
      "cell_type": "code",
      "source": [
        "from nltk.translate.bleu_score import corpus_bleu\n",
        "\n",
        "# Assuming you have generated summaries in 'predictions' and reference summaries in 'reference_summaries'\n",
        "# Make sure to replace these placeholders with your actual data\n",
        "\n",
        "# Example summaries\n",
        "summary_1 = \"The researchers discovered a new species of butterfly in the Amazon rainforest.\"\n",
        "summary_2 = \"A breakthrough in renewable energy technology was announced by scientists today.\"\n",
        "summary_3 = \"The stock market experienced a significant surge as companies reported strong quarterly earnings.\"\n",
        "\n",
        "predictions = [summary_1, summary_2, summary_3]  # Replace with your generated summaries\n",
        "reference_summaries = dataset['train']['summary']\n",
        "\n",
        "# Print the lengths of predictions and reference_summaries for debugging\n",
        "print(f'Number of predictions: {len(predictions)}')\n",
        "print(f'Number of reference summaries: {len(reference_summaries)}')\n",
        "\n",
        "# Check if the lengths match and handle the mismatch\n",
        "if len(predictions) > len(reference_summaries):\n",
        "    predictions = predictions[:len(reference_summaries)]\n",
        "elif len(predictions) < len(reference_summaries):\n",
        "    reference_summaries = reference_summaries[:len(predictions)]\n",
        "\n",
        "# Tokenize the predictions and references\n",
        "predictions_tokens = [str(seq).split() for seq in predictions]\n",
        "references_tokens = [str(seq).split() for seq in reference_summaries]\n",
        "\n",
        "# Calculate BLEU score\n",
        "bleu_score = corpus_bleu(references_tokens, predictions_tokens)\n",
        "print(f'BLEU Score: {bleu_score}')\n"
      ],
      "metadata": {
        "colab": {
          "base_uri": "https://localhost:8080/"
        },
        "id": "-FizEuEgDb2R",
        "outputId": "1f00df3b-06c8-4c05-f16f-999c872d9c08"
      },
      "execution_count": null,
      "outputs": [
        {
          "output_type": "stream",
          "name": "stdout",
          "text": [
            "Number of predictions: 3\n",
            "Number of reference summaries: 44972\n",
            "BLEU Score: 9.520270242292201e-232\n"
          ]
        },
        {
          "output_type": "stream",
          "name": "stderr",
          "text": [
            "/usr/local/lib/python3.10/dist-packages/nltk/translate/bleu_score.py:552: UserWarning: \n",
            "The hypothesis contains 0 counts of 2-gram overlaps.\n",
            "Therefore the BLEU score evaluates to 0, independently of\n",
            "how many N-gram overlaps of lower order it contains.\n",
            "Consider using lower n-gram order or use SmoothingFunction()\n",
            "  warnings.warn(_msg)\n",
            "/usr/local/lib/python3.10/dist-packages/nltk/translate/bleu_score.py:552: UserWarning: \n",
            "The hypothesis contains 0 counts of 3-gram overlaps.\n",
            "Therefore the BLEU score evaluates to 0, independently of\n",
            "how many N-gram overlaps of lower order it contains.\n",
            "Consider using lower n-gram order or use SmoothingFunction()\n",
            "  warnings.warn(_msg)\n",
            "/usr/local/lib/python3.10/dist-packages/nltk/translate/bleu_score.py:552: UserWarning: \n",
            "The hypothesis contains 0 counts of 4-gram overlaps.\n",
            "Therefore the BLEU score evaluates to 0, independently of\n",
            "how many N-gram overlaps of lower order it contains.\n",
            "Consider using lower n-gram order or use SmoothingFunction()\n",
            "  warnings.warn(_msg)\n"
          ]
        }
      ]
    },
    {
      "cell_type": "code",
      "source": [
        "import matplotlib.pyplot as plt\n",
        "\n",
        "# Replace these with your actual BLEU scores\n",
        "categories = ['Summary 1', 'Summary 2', 'Summary 3']\n",
        "bleu_scores = [0.75, 0.82, 0.68]\n",
        "\n",
        "# Create a bar chart\n",
        "plt.bar(categories, bleu_scores, color='blue')\n",
        "plt.xlabel('Summaries')\n",
        "plt.ylabel('BLEU Score')\n",
        "plt.title('BLEU Scores for Different Summaries')\n",
        "plt.ylim(0, 1)  # Set the y-axis range between 0 and 1 for BLEU scores\n",
        "\n",
        "# Display the BLEU scores on top of the bars\n",
        "for i, score in enumerate(bleu_scores):\n",
        "    plt.text(i, score + 0.02, f'{score:.2f}', ha='center', va='bottom')\n",
        "\n",
        "# Show the plot\n",
        "plt.show()\n"
      ],
      "metadata": {
        "colab": {
          "base_uri": "https://localhost:8080/",
          "height": 472
        },
        "id": "k1XXA5T2D8iK",
        "outputId": "e184ce54-c689-4229-d739-ca451938b25d"
      },
      "execution_count": null,
      "outputs": [
        {
          "output_type": "display_data",
          "data": {
            "text/plain": [
              "<Figure size 640x480 with 1 Axes>"
            ],
            "image/png": "[encoded data removed]"
          },
          "metadata": {}
        }
      ]
    },
    {
      "cell_type": "code",
      "source": [
        "import pandas as pd\n",
        "\n",
        "# Assuming you have results for training and testing\n",
        "training_results = {\n",
        "    'BLEU Score': 0.75,\n",
        "}\n",
        "\n",
        "testing_results = {\n",
        "    'BLEU Score': 0.72,\n",
        "}\n",
        "\n",
        "# Create DataFrames for training and testing results\n",
        "df_training = pd.DataFrame(list(training_results.items()), columns=['Metric', 'Training'])\n",
        "df_testing = pd.DataFrame(list(testing_results.items()), columns=['Metric', 'Testing'])\n",
        "\n",
        "# Merge DataFrames on the 'Metric' column\n",
        "df_results = pd.merge(df_training, df_testing, on='Metric')\n",
        "\n",
        "# Display the results table\n",
        "print(df_results)\n"
      ],
      "metadata": {
        "colab": {
          "base_uri": "https://localhost:8080/"
        },
        "id": "kqa8yUEuwgp4",
        "outputId": "e8ebcd3e-047e-40b9-c2d9-537dfbd66c88"
      },
      "execution_count": null,
      "outputs": [
        {
          "output_type": "stream",
          "name": "stdout",
          "text": [
            "       Metric  Training  Testing\n",
            "0  BLEU Score      0.75     0.72\n"
          ]
        }
      ]
    },
    {
      "cell_type": "code",
      "source": [
        "import tensorflow as tf\n",
        "from tensorflow.keras.layers import Embedding, LSTM, Dense, Attention, Concatenate\n",
        "\n",
        "class PointerGeneratorNetwork(tf.keras.Model):\n",
        "    def __init__(self, vocab_size, embedding_dim, hidden_units):\n",
        "        super(PointerGeneratorNetwork, self).__init__()\n",
        "\n",
        "        # Encoder\n",
        "        self.embedding_layer = Embedding(vocab_size, embedding_dim)\n",
        "        self.encoder_lstm = LSTM(hidden_units, return_sequences=True, return_state=True)\n",
        "\n",
        "        # Attention Mechanism\n",
        "        self.attention = Attention(use_scale=True)\n",
        "\n",
        "        # Decoder\n",
        "        self.decoder_lstm = LSTM(hidden_units, return_sequences=True, return_state=True)\n",
        "        self.output_layer = Dense(vocab_size, activation='softmax')\n",
        "\n",
        "    def call(self, inputs, training=None, mask=None):\n",
        "        source_sequence, target_sequence = inputs\n",
        "\n",
        "        # Encoder\n",
        "        encoder_embedding = self.embedding_layer(source_sequence)\n",
        "        encoder_outputs, encoder_state_h, _ = self.encoder_lstm(encoder_embedding)\n",
        "\n",
        "        # Attention Mechanism\n",
        "        context_vector, attention_weights = self.attention([encoder_outputs, encoder_state_h])\n",
        "\n",
        "        # Decoder\n",
        "        decoder_embedding = self.embedding_layer(target_sequence)\n",
        "        decoder_outputs, _, _ = self.decoder_lstm(decoder_embedding, initial_state=[context_vector, encoder_state_h])\n",
        "        output_probabilities = self.output_layer(decoder_outputs)\n",
        "\n",
        "        return output_probabilities, attention_weights\n",
        "\n",
        "# Instantiate the model\n",
        "vocab_size = 10000  # Replace with your actual vocabulary size\n",
        "embedding_dim = 256\n",
        "hidden_units = 512\n",
        "model = PointerGeneratorNetwork(vocab_size, embedding_dim, hidden_units)\n"
      ],
      "metadata": {
        "id": "tg2pd4DW1E5M"
      },
      "execution_count": null,
      "outputs": []
    },
    {
      "cell_type": "code",
      "source": [
        "from transformers import AutoTokenizer\n",
        "\n",
        "# Replace \"bert-base-uncased\" with the name of your pre-trained model\n",
        "model_name = \"bert-base-uncased\"\n",
        "\n",
        "# Load the tokenizer\n",
        "tokenizer = AutoTokenizer.from_pretrained(model_name)\n",
        "\n",
        "def preprocess_input_sequence(sequence):\n",
        "    # Tokenize the input sequence\n",
        "    tokenized_sequence = tokenizer(sequence, return_tensors=\"pt\", truncation=True, padding=True)\n",
        "\n",
        "    # Extract token indices\n",
        "    input_indices = tokenized_sequence[\"input_ids\"].squeeze()\n",
        "\n",
        "    return input_indices\n",
        "\n",
        "# Example input sequence\n",
        "example_sequence = \"This is an example input sequence for tokenization.\"\n",
        "\n",
        "# Preprocess the input sequence\n",
        "input_indices = preprocess_input_sequence(example_sequence)\n",
        "\n",
        "# Display the results\n",
        "print(\"Original Sequence:\", example_sequence)\n",
        "print(\"Token Indices:\", input_indices.numpy())\n",
        "\n"
      ],
      "metadata": {
        "colab": {
          "base_uri": "https://localhost:8080/"
        },
        "id": "tItifRhG16gA",
        "outputId": "5c33a1dc-5dd5-4d90-d661-276a7fa3c1dd"
      },
      "execution_count": null,
      "outputs": [
        {
          "output_type": "stream",
          "name": "stdout",
          "text": [
            "Original Sequence: This is an example input sequence for tokenization.\n",
            "Token Indices: [  101  2023  2003  2019  2742  7953  5537  2005 19204  3989  1012   102]\n"
          ]
        }
      ]
    },
    {
      "cell_type": "code",
      "source": [
        "from nltk.translate.bleu_score import corpus_bleu\n",
        "\n",
        "# Assuming you have the BLEU score of the current state-of-the-art model\n",
        "baseline_bleu_score = 0.75  # Replace with the actual baseline BLEU score\n",
        "\n",
        "# Assuming you have the BLEU score of your proposed model\n",
        "your_model_bleu_score = 0.82  # Replace with the actual BLEU score of your model\n",
        "\n",
        "# Define the improvement threshold\n",
        "bleu_threshold = 0.02  # Set the desired BLEU improvement, e.g., 2 percentage points\n",
        "\n",
        "# Check if your model outperforms the baseline\n",
        "if your_model_bleu_score >= baseline_bleu_score + bleu_threshold:\n",
        "    print(f\"Congratulations! Your model has achieved a BLEU score improvement of at least {bleu_threshold * 100}% over the baseline.\")\n",
        "else:\n",
        "    print(f\"Your model has not reached the specified BLEU score improvement threshold.\")\n"
      ],
      "metadata": {
        "colab": {
          "base_uri": "https://localhost:8080/"
        },
        "id": "MYUIm0tu0bqD",
        "outputId": "36706d15-d8fc-449e-8d32-cce51558c5b1"
      },
      "execution_count": null,
      "outputs": [
        {
          "output_type": "stream",
          "name": "stdout",
          "text": [
            "Congratulations! Your model has achieved a BLEU score improvement of at least 2.0% over the baseline.\n"
          ]
        }
      ]
    }
  ],
  "metadata": {
    "colab": {
      "provenance": [],
      "authorship_tag": "ABX9TyOluk1zvkJNtZ6Ol4yClcny",
      "include_colab_link": true
    },
    "kernelspec": {
      "display_name": "Python 3",
      "name": "python3"
    },
    "language_info": {
      "name": "python"
    },
    "widgets": {
      "application/vnd.jupyter.widget-state+json": {
        "2cea89c78ae44a70948778a5b00c191b": {
          "model_module": "@jupyter-widgets/controls",
          "model_name": "HBoxModel",
          "model_module_version": "1.5.0",
          "state": {
            "_dom_classes": [],
            "_model_module": "@jupyter-widgets/controls",
            "_model_module_version": "1.5.0",
            "_model_name": "HBoxModel",
            "_view_count": null,
            "_view_module": "@jupyter-widgets/controls",
            "_view_module_version": "1.5.0",
            "_view_name": "HBoxView",
            "box_style": "",
            "children": [
              "IPY_MODEL_bacce901ed5a4a219ba0666f08d2a86f",
              "IPY_MODEL_5d25388ba41e406b95a4e06f97886f5d",
              "IPY_MODEL_75f8584007bc4af4ae971d22fb8f40cb"
            ],
            "layout": "IPY_MODEL_0e621e5fa57845fcb6be42d5ea45a0e5"
          }
        },
        "bacce901ed5a4a219ba0666f08d2a86f": {
          "model_module": "@jupyter-widgets/controls",
          "model_name": "HTMLModel",
          "model_module_version": "1.5.0",
          "state": {
            "_dom_classes": [],
            "_model_module": "@jupyter-widgets/controls",
            "_model_module_version": "1.5.0",
            "_model_name": "HTMLModel",
            "_view_count": null,
            "_view_module": "@jupyter-widgets/controls",
            "_view_module_version": "1.5.0",
            "_view_name": "HTMLView",
            "description": "",
            "description_tooltip": null,
            "layout": "IPY_MODEL_25ab037c07304a53bccff08a0b39c1e4",
            "placeholder": "​",
            "style": "IPY_MODEL_f631b2f09664455ab45ac75a15ee097c",
            "value": "config.json: 100%"
          }
        },
        "5d25388ba41e406b95a4e06f97886f5d": {
          "model_module": "@jupyter-widgets/controls",
          "model_name": "FloatProgressModel",
          "model_module_version": "1.5.0",
          "state": {
            "_dom_classes": [],
            "_model_module": "@jupyter-widgets/controls",
            "_model_module_version": "1.5.0",
            "_model_name": "FloatProgressModel",
            "_view_count": null,
            "_view_module": "@jupyter-widgets/controls",
            "_view_module_version": "1.5.0",
            "_view_name": "ProgressView",
            "bar_style": "success",
            "description": "",
            "description_tooltip": null,
            "layout": "IPY_MODEL_d35a7f40fb12420596389198a0ef83a5",
            "max": 1208,
            "min": 0,
            "orientation": "horizontal",
            "style": "IPY_MODEL_82ae46137a0345b18d97bdb841a745b2",
            "value": 1208
          }
        },
        "75f8584007bc4af4ae971d22fb8f40cb": {
          "model_module": "@jupyter-widgets/controls",
          "model_name": "HTMLModel",
          "model_module_version": "1.5.0",
          "state": {
            "_dom_classes": [],
            "_model_module": "@jupyter-widgets/controls",
            "_model_module_version": "1.5.0",
            "_model_name": "HTMLModel",
            "_view_count": null,
            "_view_module": "@jupyter-widgets/controls",
            "_view_module_version": "1.5.0",
            "_view_name": "HTMLView",
            "description": "",
            "description_tooltip": null,
            "layout": "IPY_MODEL_dd831be3875a45feaa7aac9a8563c49d",
            "placeholder": "​",
            "style": "IPY_MODEL_53b9edd37ebe4e84a8b4577d01ea7a79",
            "value": " 1.21k/1.21k [00:00&lt;00:00, 9.70kB/s]"
          }
        },
        "0e621e5fa57845fcb6be42d5ea45a0e5": {
          "model_module": "@jupyter-widgets/base",
          "model_name": "LayoutModel",
          "model_module_version": "1.2.0",
          "state": {
            "_model_module": "@jupyter-widgets/base",
            "_model_module_version": "1.2.0",
            "_model_name": "LayoutModel",
            "_view_count": null,
            "_view_module": "@jupyter-widgets/base",
            "_view_module_version": "1.2.0",
            "_view_name": "LayoutView",
            "align_content": null,
            "align_items": null,
            "align_self": null,
            "border": null,
            "bottom": null,
            "display": null,
            "flex": null,
            "flex_flow": null,
            "grid_area": null,
            "grid_auto_columns": null,
            "grid_auto_flow": null,
            "grid_auto_rows": null,
            "grid_column": null,
            "grid_gap": null,
            "grid_row": null,
            "grid_template_areas": null,
            "grid_template_columns": null,
            "grid_template_rows": null,
            "height": null,
            "justify_content": null,
            "justify_items": null,
            "left": null,
            "margin": null,
            "max_height": null,
            "max_width": null,
            "min_height": null,
            "min_width": null,
            "object_fit": null,
            "object_position": null,
            "order": null,
            "overflow": null,
            "overflow_x": null,
            "overflow_y": null,
            "padding": null,
            "right": null,
            "top": null,
            "visibility": null,
            "width": null
          }
        },
        "25ab037c07304a53bccff08a0b39c1e4": {
          "model_module": "@jupyter-widgets/base",
          "model_name": "LayoutModel",
          "model_module_version": "1.2.0",
          "state": {
            "_model_module": "@jupyter-widgets/base",
            "_model_module_version": "1.2.0",
            "_model_name": "LayoutModel",
            "_view_count": null,
            "_view_module": "@jupyter-widgets/base",
            "_view_module_version": "1.2.0",
            "_view_name": "LayoutView",
            "align_content": null,
            "align_items": null,
            "align_self": null,
            "border": null,
            "bottom": null,
            "display": null,
            "flex": null,
            "flex_flow": null,
            "grid_area": null,
            "grid_auto_columns": null,
            "grid_auto_flow": null,
            "grid_auto_rows": null,
            "grid_column": null,
            "grid_gap": null,
            "grid_row": null,
            "grid_template_areas": null,
            "grid_template_columns": null,
            "grid_template_rows": null,
            "height": null,
            "justify_content": null,
            "justify_items": null,
            "left": null,
            "margin": null,
            "max_height": null,
            "max_width": null,
            "min_height": null,
            "min_width": null,
            "object_fit": null,
            "object_position": null,
            "order": null,
            "overflow": null,
            "overflow_x": null,
            "overflow_y": null,
            "padding": null,
            "right": null,
            "top": null,
            "visibility": null,
            "width": null
          }
        },
        "f631b2f09664455ab45ac75a15ee097c": {
          "model_module": "@jupyter-widgets/controls",
          "model_name": "DescriptionStyleModel",
          "model_module_version": "1.5.0",
          "state": {
            "_model_module": "@jupyter-widgets/controls",
            "_model_module_version": "1.5.0",
            "_model_name": "DescriptionStyleModel",
            "_view_count": null,
            "_view_module": "@jupyter-widgets/base",
            "_view_module_version": "1.2.0",
            "_view_name": "StyleView",
            "description_width": ""
          }
        },
        "d35a7f40fb12420596389198a0ef83a5": {
          "model_module": "@jupyter-widgets/base",
          "model_name": "LayoutModel",
          "model_module_version": "1.2.0",
          "state": {
            "_model_module": "@jupyter-widgets/base",
            "_model_module_version": "1.2.0",
            "_model_name": "LayoutModel",
            "_view_count": null,
            "_view_module": "@jupyter-widgets/base",
            "_view_module_version": "1.2.0",
            "_view_name": "LayoutView",
            "align_content": null,
            "align_items": null,
            "align_self": null,
            "border": null,
            "bottom": null,
            "display": null,
            "flex": null,
            "flex_flow": null,
            "grid_area": null,
            "grid_auto_columns": null,
            "grid_auto_flow": null,
            "grid_auto_rows": null,
            "grid_column": null,
            "grid_gap": null,
            "grid_row": null,
            "grid_template_areas": null,
            "grid_template_columns": null,
            "grid_template_rows": null,
            "height": null,
            "justify_content": null,
            "justify_items": null,
            "left": null,
            "margin": null,
            "max_height": null,
            "max_width": null,
            "min_height": null,
            "min_width": null,
            "object_fit": null,
            "object_position": null,
            "order": null,
            "overflow": null,
            "overflow_x": null,
            "overflow_y": null,
            "padding": null,
            "right": null,
            "top": null,
            "visibility": null,
            "width": null
          }
        },
        "82ae46137a0345b18d97bdb841a745b2": {
          "model_module": "@jupyter-widgets/controls",
          "model_name": "ProgressStyleModel",
          "model_module_version": "1.5.0",
          "state": {
            "_model_module": "@jupyter-widgets/controls",
            "_model_module_version": "1.5.0",
            "_model_name": "ProgressStyleModel",
            "_view_count": null,
            "_view_module": "@jupyter-widgets/base",
            "_view_module_version": "1.2.0",
            "_view_name": "StyleView",
            "bar_color": null,
            "description_width": ""
          }
        },
        "dd831be3875a45feaa7aac9a8563c49d": {
          "model_module": "@jupyter-widgets/base",
          "model_name": "LayoutModel",
          "model_module_version": "1.2.0",
          "state": {
            "_model_module": "@jupyter-widgets/base",
            "_model_module_version": "1.2.0",
            "_model_name": "LayoutModel",
            "_view_count": null,
            "_view_module": "@jupyter-widgets/base",
            "_view_module_version": "1.2.0",
            "_view_name": "LayoutView",
            "align_content": null,
            "align_items": null,
            "align_self": null,
            "border": null,
            "bottom": null,
            "display": null,
            "flex": null,
            "flex_flow": null,
            "grid_area": null,
            "grid_auto_columns": null,
            "grid_auto_flow": null,
            "grid_auto_rows": null,
            "grid_column": null,
            "grid_gap": null,
            "grid_row": null,
            "grid_template_areas": null,
            "grid_template_columns": null,
            "grid_template_rows": null,
            "height": null,
            "justify_content": null,
            "justify_items": null,
            "left": null,
            "margin": null,
            "max_height": null,
            "max_width": null,
            "min_height": null,
            "min_width": null,
            "object_fit": null,
            "object_position": null,
            "order": null,
            "overflow": null,
            "overflow_x": null,
            "overflow_y": null,
            "padding": null,
            "right": null,
            "top": null,
            "visibility": null,
            "width": null
          }
        },
        "53b9edd37ebe4e84a8b4577d01ea7a79": {
          "model_module": "@jupyter-widgets/controls",
          "model_name": "DescriptionStyleModel",
          "model_module_version": "1.5.0",
          "state": {
            "_model_module": "@jupyter-widgets/controls",
            "_model_module_version": "1.5.0",
            "_model_name": "DescriptionStyleModel",
            "_view_count": null,
            "_view_module": "@jupyter-widgets/base",
            "_view_module_version": "1.2.0",
            "_view_name": "StyleView",
            "description_width": ""
          }
        },
        "b65dd43340be4d42bcc7b4a2baeee102": {
          "model_module": "@jupyter-widgets/controls",
          "model_name": "HBoxModel",
          "model_module_version": "1.5.0",
          "state": {
            "_dom_classes": [],
            "_model_module": "@jupyter-widgets/controls",
            "_model_module_version": "1.5.0",
            "_model_name": "HBoxModel",
            "_view_count": null,
            "_view_module": "@jupyter-widgets/controls",
            "_view_module_version": "1.5.0",
            "_view_name": "HBoxView",
            "box_style": "",
            "children": [
              "IPY_MODEL_c064c0f27e564cf4a13c3528b4fbdcff",
              "IPY_MODEL_1647525e7e4b42a2a8cadbc8fd6c1c32",
              "IPY_MODEL_0b02c5b487f44923b9e4d2811c708d05"
            ],
            "layout": "IPY_MODEL_fb0fae84636143e4860e8b0d447ce0fc"
          }
        },
        "c064c0f27e564cf4a13c3528b4fbdcff": {
          "model_module": "@jupyter-widgets/controls",
          "model_name": "HTMLModel",
          "model_module_version": "1.5.0",
          "state": {
            "_dom_classes": [],
            "_model_module": "@jupyter-widgets/controls",
            "_model_module_version": "1.5.0",
            "_model_name": "HTMLModel",
            "_view_count": null,
            "_view_module": "@jupyter-widgets/controls",
            "_view_module_version": "1.5.0",
            "_view_name": "HTMLView",
            "description": "",
            "description_tooltip": null,
            "layout": "IPY_MODEL_0068748ce8ac488a867e1190ccc67c5b",
            "placeholder": "​",
            "style": "IPY_MODEL_2974150c41404ebebb37d6160b63ec71",
            "value": "spiece.model: 100%"
          }
        },
        "1647525e7e4b42a2a8cadbc8fd6c1c32": {
          "model_module": "@jupyter-widgets/controls",
          "model_name": "FloatProgressModel",
          "model_module_version": "1.5.0",
          "state": {
            "_dom_classes": [],
            "_model_module": "@jupyter-widgets/controls",
            "_model_module_version": "1.5.0",
            "_model_name": "FloatProgressModel",
            "_view_count": null,
            "_view_module": "@jupyter-widgets/controls",
            "_view_module_version": "1.5.0",
            "_view_name": "ProgressView",
            "bar_style": "success",
            "description": "",
            "description_tooltip": null,
            "layout": "IPY_MODEL_ee2514f39d994d3688ae0d92482f4aa5",
            "max": 791656,
            "min": 0,
            "orientation": "horizontal",
            "style": "IPY_MODEL_a037ac09d2be4d2393a0af1a55579d65",
            "value": 791656
          }
        },
        "0b02c5b487f44923b9e4d2811c708d05": {
          "model_module": "@jupyter-widgets/controls",
          "model_name": "HTMLModel",
          "model_module_version": "1.5.0",
          "state": {
            "_dom_classes": [],
            "_model_module": "@jupyter-widgets/controls",
            "_model_module_version": "1.5.0",
            "_model_name": "HTMLModel",
            "_view_count": null,
            "_view_module": "@jupyter-widgets/controls",
            "_view_module_version": "1.5.0",
            "_view_name": "HTMLView",
            "description": "",
            "description_tooltip": null,
            "layout": "IPY_MODEL_18c27b0bbcbc40758aadf0de4cabc40e",
            "placeholder": "​",
            "style": "IPY_MODEL_b773e1eadbe34a48be6ff7a7591e7ac4",
            "value": " 792k/792k [00:00&lt;00:00, 7.44MB/s]"
          }
        },
        "fb0fae84636143e4860e8b0d447ce0fc": {
          "model_module": "@jupyter-widgets/base",
          "model_name": "LayoutModel",
          "model_module_version": "1.2.0",
          "state": {
            "_model_module": "@jupyter-widgets/base",
            "_model_module_version": "1.2.0",
            "_model_name": "LayoutModel",
            "_view_count": null,
            "_view_module": "@jupyter-widgets/base",
            "_view_module_version": "1.2.0",
            "_view_name": "LayoutView",
            "align_content": null,
            "align_items": null,
            "align_self": null,
            "border": null,
            "bottom": null,
            "display": null,
            "flex": null,
            "flex_flow": null,
            "grid_area": null,
            "grid_auto_columns": null,
            "grid_auto_flow": null,
            "grid_auto_rows": null,
            "grid_column": null,
            "grid_gap": null,
            "grid_row": null,
            "grid_template_areas": null,
            "grid_template_columns": null,
            "grid_template_rows": null,
            "height": null,
            "justify_content": null,
            "justify_items": null,
            "left": null,
            "margin": null,
            "max_height": null,
            "max_width": null,
            "min_height": null,
            "min_width": null,
            "object_fit": null,
            "object_position": null,
            "order": null,
            "overflow": null,
            "overflow_x": null,
            "overflow_y": null,
            "padding": null,
            "right": null,
            "top": null,
            "visibility": null,
            "width": null
          }
        },
        "0068748ce8ac488a867e1190ccc67c5b": {
          "model_module": "@jupyter-widgets/base",
          "model_name": "LayoutModel",
          "model_module_version": "1.2.0",
          "state": {
            "_model_module": "@jupyter-widgets/base",
            "_model_module_version": "1.2.0",
            "_model_name": "LayoutModel",
            "_view_count": null,
            "_view_module": "@jupyter-widgets/base",
            "_view_module_version": "1.2.0",
            "_view_name": "LayoutView",
            "align_content": null,
            "align_items": null,
            "align_self": null,
            "border": null,
            "bottom": null,
            "display": null,
            "flex": null,
            "flex_flow": null,
            "grid_area": null,
            "grid_auto_columns": null,
            "grid_auto_flow": null,
            "grid_auto_rows": null,
            "grid_column": null,
            "grid_gap": null,
            "grid_row": null,
            "grid_template_areas": null,
            "grid_template_columns": null,
            "grid_template_rows": null,
            "height": null,
            "justify_content": null,
            "justify_items": null,
            "left": null,
            "margin": null,
            "max_height": null,
            "max_width": null,
            "min_height": null,
            "min_width": null,
            "object_fit": null,
            "object_position": null,
            "order": null,
            "overflow": null,
            "overflow_x": null,
            "overflow_y": null,
            "padding": null,
            "right": null,
            "top": null,
            "visibility": null,
            "width": null
          }
        },
        "2974150c41404ebebb37d6160b63ec71": {
          "model_module": "@jupyter-widgets/controls",
          "model_name": "DescriptionStyleModel",
          "model_module_version": "1.5.0",
          "state": {
            "_model_module": "@jupyter-widgets/controls",
            "_model_module_version": "1.5.0",
            "_model_name": "DescriptionStyleModel",
            "_view_count": null,
            "_view_module": "@jupyter-widgets/base",
            "_view_module_version": "1.2.0",
            "_view_name": "StyleView",
            "description_width": ""
          }
        },
        "ee2514f39d994d3688ae0d92482f4aa5": {
          "model_module": "@jupyter-widgets/base",
          "model_name": "LayoutModel",
          "model_module_version": "1.2.0",
          "state": {
            "_model_module": "@jupyter-widgets/base",
            "_model_module_version": "1.2.0",
            "_model_name": "LayoutModel",
            "_view_count": null,
            "_view_module": "@jupyter-widgets/base",
            "_view_module_version": "1.2.0",
            "_view_name": "LayoutView",
            "align_content": null,
            "align_items": null,
            "align_self": null,
            "border": null,
            "bottom": null,
            "display": null,
            "flex": null,
            "flex_flow": null,
            "grid_area": null,
            "grid_auto_columns": null,
            "grid_auto_flow": null,
            "grid_auto_rows": null,
            "grid_column": null,
            "grid_gap": null,
            "grid_row": null,
            "grid_template_areas": null,
            "grid_template_columns": null,
            "grid_template_rows": null,
            "height": null,
            "justify_content": null,
            "justify_items": null,
            "left": null,
            "margin": null,
            "max_height": null,
            "max_width": null,
            "min_height": null,
            "min_width": null,
            "object_fit": null,
            "object_position": null,
            "order": null,
            "overflow": null,
            "overflow_x": null,
            "overflow_y": null,
            "padding": null,
            "right": null,
            "top": null,
            "visibility": null,
            "width": null
          }
        },
        "a037ac09d2be4d2393a0af1a55579d65": {
          "model_module": "@jupyter-widgets/controls",
          "model_name": "ProgressStyleModel",
          "model_module_version": "1.5.0",
          "state": {
            "_model_module": "@jupyter-widgets/controls",
            "_model_module_version": "1.5.0",
            "_model_name": "ProgressStyleModel",
            "_view_count": null,
            "_view_module": "@jupyter-widgets/base",
            "_view_module_version": "1.2.0",
            "_view_name": "StyleView",
            "bar_color": null,
            "description_width": ""
          }
        },
        "18c27b0bbcbc40758aadf0de4cabc40e": {
          "model_module": "@jupyter-widgets/base",
          "model_name": "LayoutModel",
          "model_module_version": "1.2.0",
          "state": {
            "_model_module": "@jupyter-widgets/base",
            "_model_module_version": "1.2.0",
            "_model_name": "LayoutModel",
            "_view_count": null,
            "_view_module": "@jupyter-widgets/base",
            "_view_module_version": "1.2.0",
            "_view_name": "LayoutView",
            "align_content": null,
            "align_items": null,
            "align_self": null,
            "border": null,
            "bottom": null,
            "display": null,
            "flex": null,
            "flex_flow": null,
            "grid_area": null,
            "grid_auto_columns": null,
            "grid_auto_flow": null,
            "grid_auto_rows": null,
            "grid_column": null,
            "grid_gap": null,
            "grid_row": null,
            "grid_template_areas": null,
            "grid_template_columns": null,
            "grid_template_rows": null,
            "height": null,
            "justify_content": null,
            "justify_items": null,
            "left": null,
            "margin": null,
            "max_height": null,
            "max_width": null,
            "min_height": null,
            "min_width": null,
            "object_fit": null,
            "object_position": null,
            "order": null,
            "overflow": null,
            "overflow_x": null,
            "overflow_y": null,
            "padding": null,
            "right": null,
            "top": null,
            "visibility": null,
            "width": null
          }
        },
        "b773e1eadbe34a48be6ff7a7591e7ac4": {
          "model_module": "@jupyter-widgets/controls",
          "model_name": "DescriptionStyleModel",
          "model_module_version": "1.5.0",
          "state": {
            "_model_module": "@jupyter-widgets/controls",
            "_model_module_version": "1.5.0",
            "_model_name": "DescriptionStyleModel",
            "_view_count": null,
            "_view_module": "@jupyter-widgets/base",
            "_view_module_version": "1.2.0",
            "_view_name": "StyleView",
            "description_width": ""
          }
        },
        "0efbbcb9009442c38cc53e120f1ff1a3": {
          "model_module": "@jupyter-widgets/controls",
          "model_name": "HBoxModel",
          "model_module_version": "1.5.0",
          "state": {
            "_dom_classes": [],
            "_model_module": "@jupyter-widgets/controls",
            "_model_module_version": "1.5.0",
            "_model_name": "HBoxModel",
            "_view_count": null,
            "_view_module": "@jupyter-widgets/controls",
            "_view_module_version": "1.5.0",
            "_view_name": "HBoxView",
            "box_style": "",
            "children": [
              "IPY_MODEL_34c3e8f0dc824a9db3128a019e97c4a4",
              "IPY_MODEL_1578a69fcda44a59a8f5dc582bb1fa96",
              "IPY_MODEL_27d10956a4c942589ef07f1e2133eb9b"
            ],
            "layout": "IPY_MODEL_e47152ec58ed4dc882e2818cca67c9fe"
          }
        },
        "34c3e8f0dc824a9db3128a019e97c4a4": {
          "model_module": "@jupyter-widgets/controls",
          "model_name": "HTMLModel",
          "model_module_version": "1.5.0",
          "state": {
            "_dom_classes": [],
            "_model_module": "@jupyter-widgets/controls",
            "_model_module_version": "1.5.0",
            "_model_name": "HTMLModel",
            "_view_count": null,
            "_view_module": "@jupyter-widgets/controls",
            "_view_module_version": "1.5.0",
            "_view_name": "HTMLView",
            "description": "",
            "description_tooltip": null,
            "layout": "IPY_MODEL_a8e01021d75943b88c9b4b44b8518a4b",
            "placeholder": "​",
            "style": "IPY_MODEL_3b37d3409b464cc88f97eb934928e7ab",
            "value": "tokenizer.json: 100%"
          }
        },
        "1578a69fcda44a59a8f5dc582bb1fa96": {
          "model_module": "@jupyter-widgets/controls",
          "model_name": "FloatProgressModel",
          "model_module_version": "1.5.0",
          "state": {
            "_dom_classes": [],
            "_model_module": "@jupyter-widgets/controls",
            "_model_module_version": "1.5.0",
            "_model_name": "FloatProgressModel",
            "_view_count": null,
            "_view_module": "@jupyter-widgets/controls",
            "_view_module_version": "1.5.0",
            "_view_name": "ProgressView",
            "bar_style": "success",
            "description": "",
            "description_tooltip": null,
            "layout": "IPY_MODEL_ad168139f075487391054110a47225c1",
            "max": 1389353,
            "min": 0,
            "orientation": "horizontal",
            "style": "IPY_MODEL_d56f4a37b0a44fe0b6c011ff8ea99191",
            "value": 1389353
          }
        },
        "27d10956a4c942589ef07f1e2133eb9b": {
          "model_module": "@jupyter-widgets/controls",
          "model_name": "HTMLModel",
          "model_module_version": "1.5.0",
          "state": {
            "_dom_classes": [],
            "_model_module": "@jupyter-widgets/controls",
            "_model_module_version": "1.5.0",
            "_model_name": "HTMLModel",
            "_view_count": null,
            "_view_module": "@jupyter-widgets/controls",
            "_view_module_version": "1.5.0",
            "_view_name": "HTMLView",
            "description": "",
            "description_tooltip": null,
            "layout": "IPY_MODEL_93bb2ee0751d4ab29bbcedfd11494f66",
            "placeholder": "​",
            "style": "IPY_MODEL_3aef95011d8e4bbba96d810772709308",
            "value": " 1.39M/1.39M [00:00&lt;00:00, 10.7MB/s]"
          }
        },
        "e47152ec58ed4dc882e2818cca67c9fe": {
          "model_module": "@jupyter-widgets/base",
          "model_name": "LayoutModel",
          "model_module_version": "1.2.0",
          "state": {
            "_model_module": "@jupyter-widgets/base",
            "_model_module_version": "1.2.0",
            "_model_name": "LayoutModel",
            "_view_count": null,
            "_view_module": "@jupyter-widgets/base",
            "_view_module_version": "1.2.0",
            "_view_name": "LayoutView",
            "align_content": null,
            "align_items": null,
            "align_self": null,
            "border": null,
            "bottom": null,
            "display": null,
            "flex": null,
            "flex_flow": null,
            "grid_area": null,
            "grid_auto_columns": null,
            "grid_auto_flow": null,
            "grid_auto_rows": null,
            "grid_column": null,
            "grid_gap": null,
            "grid_row": null,
            "grid_template_areas": null,
            "grid_template_columns": null,
            "grid_template_rows": null,
            "height": null,
            "justify_content": null,
            "justify_items": null,
            "left": null,
            "margin": null,
            "max_height": null,
            "max_width": null,
            "min_height": null,
            "min_width": null,
            "object_fit": null,
            "object_position": null,
            "order": null,
            "overflow": null,
            "overflow_x": null,
            "overflow_y": null,
            "padding": null,
            "right": null,
            "top": null,
            "visibility": null,
            "width": null
          }
        },
        "a8e01021d75943b88c9b4b44b8518a4b": {
          "model_module": "@jupyter-widgets/base",
          "model_name": "LayoutModel",
          "model_module_version": "1.2.0",
          "state": {
            "_model_module": "@jupyter-widgets/base",
            "_model_module_version": "1.2.0",
            "_model_name": "LayoutModel",
            "_view_count": null,
            "_view_module": "@jupyter-widgets/base",
            "_view_module_version": "1.2.0",
            "_view_name": "LayoutView",
            "align_content": null,
            "align_items": null,
            "align_self": null,
            "border": null,
            "bottom": null,
            "display": null,
            "flex": null,
            "flex_flow": null,
            "grid_area": null,
            "grid_auto_columns": null,
            "grid_auto_flow": null,
            "grid_auto_rows": null,
            "grid_column": null,
            "grid_gap": null,
            "grid_row": null,
            "grid_template_areas": null,
            "grid_template_columns": null,
            "grid_template_rows": null,
            "height": null,
            "justify_content": null,
            "justify_items": null,
            "left": null,
            "margin": null,
            "max_height": null,
            "max_width": null,
            "min_height": null,
            "min_width": null,
            "object_fit": null,
            "object_position": null,
            "order": null,
            "overflow": null,
            "overflow_x": null,
            "overflow_y": null,
            "padding": null,
            "right": null,
            "top": null,
            "visibility": null,
            "width": null
          }
        },
        "3b37d3409b464cc88f97eb934928e7ab": {
          "model_module": "@jupyter-widgets/controls",
          "model_name": "DescriptionStyleModel",
          "model_module_version": "1.5.0",
          "state": {
            "_model_module": "@jupyter-widgets/controls",
            "_model_module_version": "1.5.0",
            "_model_name": "DescriptionStyleModel",
            "_view_count": null,
            "_view_module": "@jupyter-widgets/base",
            "_view_module_version": "1.2.0",
            "_view_name": "StyleView",
            "description_width": ""
          }
        },
        "ad168139f075487391054110a47225c1": {
          "model_module": "@jupyter-widgets/base",
          "model_name": "LayoutModel",
          "model_module_version": "1.2.0",
          "state": {
            "_model_module": "@jupyter-widgets/base",
            "_model_module_version": "1.2.0",
            "_model_name": "LayoutModel",
            "_view_count": null,
            "_view_module": "@jupyter-widgets/base",
            "_view_module_version": "1.2.0",
            "_view_name": "LayoutView",
            "align_content": null,
            "align_items": null,
            "align_self": null,
            "border": null,
            "bottom": null,
            "display": null,
            "flex": null,
            "flex_flow": null,
            "grid_area": null,
            "grid_auto_columns": null,
            "grid_auto_flow": null,
            "grid_auto_rows": null,
            "grid_column": null,
            "grid_gap": null,
            "grid_row": null,
            "grid_template_areas": null,
            "grid_template_columns": null,
            "grid_template_rows": null,
            "height": null,
            "justify_content": null,
            "justify_items": null,
            "left": null,
            "margin": null,
            "max_height": null,
            "max_width": null,
            "min_height": null,
            "min_width": null,
            "object_fit": null,
            "object_position": null,
            "order": null,
            "overflow": null,
            "overflow_x": null,
            "overflow_y": null,
            "padding": null,
            "right": null,
            "top": null,
            "visibility": null,
            "width": null
          }
        },
        "d56f4a37b0a44fe0b6c011ff8ea99191": {
          "model_module": "@jupyter-widgets/controls",
          "model_name": "ProgressStyleModel",
          "model_module_version": "1.5.0",
          "state": {
            "_model_module": "@jupyter-widgets/controls",
            "_model_module_version": "1.5.0",
            "_model_name": "ProgressStyleModel",
            "_view_count": null,
            "_view_module": "@jupyter-widgets/base",
            "_view_module_version": "1.2.0",
            "_view_name": "StyleView",
            "bar_color": null,
            "description_width": ""
          }
        },
        "93bb2ee0751d4ab29bbcedfd11494f66": {
          "model_module": "@jupyter-widgets/base",
          "model_name": "LayoutModel",
          "model_module_version": "1.2.0",
          "state": {
            "_model_module": "@jupyter-widgets/base",
            "_model_module_version": "1.2.0",
            "_model_name": "LayoutModel",
            "_view_count": null,
            "_view_module": "@jupyter-widgets/base",
            "_view_module_version": "1.2.0",
            "_view_name": "LayoutView",
            "align_content": null,
            "align_items": null,
            "align_self": null,
            "border": null,
            "bottom": null,
            "display": null,
            "flex": null,
            "flex_flow": null,
            "grid_area": null,
            "grid_auto_columns": null,
            "grid_auto_flow": null,
            "grid_auto_rows": null,
            "grid_column": null,
            "grid_gap": null,
            "grid_row": null,
            "grid_template_areas": null,
            "grid_template_columns": null,
            "grid_template_rows": null,
            "height": null,
            "justify_content": null,
            "justify_items": null,
            "left": null,
            "margin": null,
            "max_height": null,
            "max_width": null,
            "min_height": null,
            "min_width": null,
            "object_fit": null,
            "object_position": null,
            "order": null,
            "overflow": null,
            "overflow_x": null,
            "overflow_y": null,
            "padding": null,
            "right": null,
            "top": null,
            "visibility": null,
            "width": null
          }
        },
        "3aef95011d8e4bbba96d810772709308": {
          "model_module": "@jupyter-widgets/controls",
          "model_name": "DescriptionStyleModel",
          "model_module_version": "1.5.0",
          "state": {
            "_model_module": "@jupyter-widgets/controls",
            "_model_module_version": "1.5.0",
            "_model_name": "DescriptionStyleModel",
            "_view_count": null,
            "_view_module": "@jupyter-widgets/base",
            "_view_module_version": "1.2.0",
            "_view_name": "StyleView",
            "description_width": ""
          }
        },
        "2ae6b452fc7941ebb87e929ed912ae69": {
          "model_module": "@jupyter-widgets/controls",
          "model_name": "HBoxModel",
          "model_module_version": "1.5.0",
          "state": {
            "_dom_classes": [],
            "_model_module": "@jupyter-widgets/controls",
            "_model_module_version": "1.5.0",
            "_model_name": "HBoxModel",
            "_view_count": null,
            "_view_module": "@jupyter-widgets/controls",
            "_view_module_version": "1.5.0",
            "_view_name": "HBoxView",
            "box_style": "",
            "children": [
              "IPY_MODEL_5e190a56cbc0462baf83d38983fc4158",
              "IPY_MODEL_f296b9d2d992488ab7279e9b3b528728",
              "IPY_MODEL_d0e4be8f7ab24916b863cea00cb314f8"
            ],
            "layout": "IPY_MODEL_f1e3fb16017847d2964f760de0f67bc1"
          }
        },
        "5e190a56cbc0462baf83d38983fc4158": {
          "model_module": "@jupyter-widgets/controls",
          "model_name": "HTMLModel",
          "model_module_version": "1.5.0",
          "state": {
            "_dom_classes": [],
            "_model_module": "@jupyter-widgets/controls",
            "_model_module_version": "1.5.0",
            "_model_name": "HTMLModel",
            "_view_count": null,
            "_view_module": "@jupyter-widgets/controls",
            "_view_module_version": "1.5.0",
            "_view_name": "HTMLView",
            "description": "",
            "description_tooltip": null,
            "layout": "IPY_MODEL_fdce45f1e984420eb63ed13f2e8eabe9",
            "placeholder": "​",
            "style": "IPY_MODEL_ac5edc8ea4fa490e800c180ef6dd3482",
            "value": "Map: 100%"
          }
        },
        "f296b9d2d992488ab7279e9b3b528728": {
          "model_module": "@jupyter-widgets/controls",
          "model_name": "FloatProgressModel",
          "model_module_version": "1.5.0",
          "state": {
            "_dom_classes": [],
            "_model_module": "@jupyter-widgets/controls",
            "_model_module_version": "1.5.0",
            "_model_name": "FloatProgressModel",
            "_view_count": null,
            "_view_module": "@jupyter-widgets/controls",
            "_view_module_version": "1.5.0",
            "_view_name": "ProgressView",
            "bar_style": "success",
            "description": "",
            "description_tooltip": null,
            "layout": "IPY_MODEL_b75d0e8e05704f5fb4132d561be36f97",
            "max": 44972,
            "min": 0,
            "orientation": "horizontal",
            "style": "IPY_MODEL_0d3199711ef84dd08c4910408027e581",
            "value": 44972
          }
        },
        "d0e4be8f7ab24916b863cea00cb314f8": {
          "model_module": "@jupyter-widgets/controls",
          "model_name": "HTMLModel",
          "model_module_version": "1.5.0",
          "state": {
            "_dom_classes": [],
            "_model_module": "@jupyter-widgets/controls",
            "_model_module_version": "1.5.0",
            "_model_name": "HTMLModel",
            "_view_count": null,
            "_view_module": "@jupyter-widgets/controls",
            "_view_module_version": "1.5.0",
            "_view_name": "HTMLView",
            "description": "",
            "description_tooltip": null,
            "layout": "IPY_MODEL_b3b6fee8e3c34647acdf1afeca170adb",
            "placeholder": "​",
            "style": "IPY_MODEL_3e6a8bd8153b410c826a50fd75ebf894",
            "value": " 44972/44972 [20:58&lt;00:00, 32.17 examples/s]"
          }
        },
        "f1e3fb16017847d2964f760de0f67bc1": {
          "model_module": "@jupyter-widgets/base",
          "model_name": "LayoutModel",
          "model_module_version": "1.2.0",
          "state": {
            "_model_module": "@jupyter-widgets/base",
            "_model_module_version": "1.2.0",
            "_model_name": "LayoutModel",
            "_view_count": null,
            "_view_module": "@jupyter-widgets/base",
            "_view_module_version": "1.2.0",
            "_view_name": "LayoutView",
            "align_content": null,
            "align_items": null,
            "align_self": null,
            "border": null,
            "bottom": null,
            "display": null,
            "flex": null,
            "flex_flow": null,
            "grid_area": null,
            "grid_auto_columns": null,
            "grid_auto_flow": null,
            "grid_auto_rows": null,
            "grid_column": null,
            "grid_gap": null,
            "grid_row": null,
            "grid_template_areas": null,
            "grid_template_columns": null,
            "grid_template_rows": null,
            "height": null,
            "justify_content": null,
            "justify_items": null,
            "left": null,
            "margin": null,
            "max_height": null,
            "max_width": null,
            "min_height": null,
            "min_width": null,
            "object_fit": null,
            "object_position": null,
            "order": null,
            "overflow": null,
            "overflow_x": null,
            "overflow_y": null,
            "padding": null,
            "right": null,
            "top": null,
            "visibility": null,
            "width": null
          }
        },
        "fdce45f1e984420eb63ed13f2e8eabe9": {
          "model_module": "@jupyter-widgets/base",
          "model_name": "LayoutModel",
          "model_module_version": "1.2.0",
          "state": {
            "_model_module": "@jupyter-widgets/base",
            "_model_module_version": "1.2.0",
            "_model_name": "LayoutModel",
            "_view_count": null,
            "_view_module": "@jupyter-widgets/base",
            "_view_module_version": "1.2.0",
            "_view_name": "LayoutView",
            "align_content": null,
            "align_items": null,
            "align_self": null,
            "border": null,
            "bottom": null,
            "display": null,
            "flex": null,
            "flex_flow": null,
            "grid_area": null,
            "grid_auto_columns": null,
            "grid_auto_flow": null,
            "grid_auto_rows": null,
            "grid_column": null,
            "grid_gap": null,
            "grid_row": null,
            "grid_template_areas": null,
            "grid_template_columns": null,
            "grid_template_rows": null,
            "height": null,
            "justify_content": null,
            "justify_items": null,
            "left": null,
            "margin": null,
            "max_height": null,
            "max_width": null,
            "min_height": null,
            "min_width": null,
            "object_fit": null,
            "object_position": null,
            "order": null,
            "overflow": null,
            "overflow_x": null,
            "overflow_y": null,
            "padding": null,
            "right": null,
            "top": null,
            "visibility": null,
            "width": null
          }
        },
        "ac5edc8ea4fa490e800c180ef6dd3482": {
          "model_module": "@jupyter-widgets/controls",
          "model_name": "DescriptionStyleModel",
          "model_module_version": "1.5.0",
          "state": {
            "_model_module": "@jupyter-widgets/controls",
            "_model_module_version": "1.5.0",
            "_model_name": "DescriptionStyleModel",
            "_view_count": null,
            "_view_module": "@jupyter-widgets/base",
            "_view_module_version": "1.2.0",
            "_view_name": "StyleView",
            "description_width": ""
          }
        },
        "b75d0e8e05704f5fb4132d561be36f97": {
          "model_module": "@jupyter-widgets/base",
          "model_name": "LayoutModel",
          "model_module_version": "1.2.0",
          "state": {
            "_model_module": "@jupyter-widgets/base",
            "_model_module_version": "1.2.0",
            "_model_name": "LayoutModel",
            "_view_count": null,
            "_view_module": "@jupyter-widgets/base",
            "_view_module_version": "1.2.0",
            "_view_name": "LayoutView",
            "align_content": null,
            "align_items": null,
            "align_self": null,
            "border": null,
            "bottom": null,
            "display": null,
            "flex": null,
            "flex_flow": null,
            "grid_area": null,
            "grid_auto_columns": null,
            "grid_auto_flow": null,
            "grid_auto_rows": null,
            "grid_column": null,
            "grid_gap": null,
            "grid_row": null,
            "grid_template_areas": null,
            "grid_template_columns": null,
            "grid_template_rows": null,
            "height": null,
            "justify_content": null,
            "justify_items": null,
            "left": null,
            "margin": null,
            "max_height": null,
            "max_width": null,
            "min_height": null,
            "min_width": null,
            "object_fit": null,
            "object_position": null,
            "order": null,
            "overflow": null,
            "overflow_x": null,
            "overflow_y": null,
            "padding": null,
            "right": null,
            "top": null,
            "visibility": null,
            "width": null
          }
        },
        "0d3199711ef84dd08c4910408027e581": {
          "model_module": "@jupyter-widgets/controls",
          "model_name": "ProgressStyleModel",
          "model_module_version": "1.5.0",
          "state": {
            "_model_module": "@jupyter-widgets/controls",
            "_model_module_version": "1.5.0",
            "_model_name": "ProgressStyleModel",
            "_view_count": null,
            "_view_module": "@jupyter-widgets/base",
            "_view_module_version": "1.2.0",
            "_view_name": "StyleView",
            "bar_color": null,
            "description_width": ""
          }
        },
        "b3b6fee8e3c34647acdf1afeca170adb": {
          "model_module": "@jupyter-widgets/base",
          "model_name": "LayoutModel",
          "model_module_version": "1.2.0",
          "state": {
            "_model_module": "@jupyter-widgets/base",
            "_model_module_version": "1.2.0",
            "_model_name": "LayoutModel",
            "_view_count": null,
            "_view_module": "@jupyter-widgets/base",
            "_view_module_version": "1.2.0",
            "_view_name": "LayoutView",
            "align_content": null,
            "align_items": null,
            "align_self": null,
            "border": null,
            "bottom": null,
            "display": null,
            "flex": null,
            "flex_flow": null,
            "grid_area": null,
            "grid_auto_columns": null,
            "grid_auto_flow": null,
            "grid_auto_rows": null,
            "grid_column": null,
            "grid_gap": null,
            "grid_row": null,
            "grid_template_areas": null,
            "grid_template_columns": null,
            "grid_template_rows": null,
            "height": null,
            "justify_content": null,
            "justify_items": null,
            "left": null,
            "margin": null,
            "max_height": null,
            "max_width": null,
            "min_height": null,
            "min_width": null,
            "object_fit": null,
            "object_position": null,
            "order": null,
            "overflow": null,
            "overflow_x": null,
            "overflow_y": null,
            "padding": null,
            "right": null,
            "top": null,
            "visibility": null,
            "width": null
          }
        },
        "3e6a8bd8153b410c826a50fd75ebf894": {
          "model_module": "@jupyter-widgets/controls",
          "model_name": "DescriptionStyleModel",
          "model_module_version": "1.5.0",
          "state": {
            "_model_module": "@jupyter-widgets/controls",
            "_model_module_version": "1.5.0",
            "_model_name": "DescriptionStyleModel",
            "_view_count": null,
            "_view_module": "@jupyter-widgets/base",
            "_view_module_version": "1.2.0",
            "_view_name": "StyleView",
            "description_width": ""
          }
        }
      }
    }
  },
  "nbformat": 4,
  "nbformat_minor": 0
}